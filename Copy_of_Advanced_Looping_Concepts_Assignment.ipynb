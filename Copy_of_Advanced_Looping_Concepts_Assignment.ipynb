{
  "nbformat": 4,
  "nbformat_minor": 0,
  "metadata": {
    "colab": {
      "provenance": [],
      "include_colab_link": true
    },
    "kernelspec": {
      "name": "python3",
      "display_name": "Python 3"
    },
    "language_info": {
      "name": "python"
    }
  },
  "cells": [
    {
      "cell_type": "markdown",
      "metadata": {
        "id": "view-in-github",
        "colab_type": "text"
      },
      "source": [
        "<a href=\"https://colab.research.google.com/github/shankydubey/shankydubey/blob/main/Copy_of_Advanced_Looping_Concepts_Assignment.ipynb\" target=\"_parent\"><img src=\"https://colab.research.google.com/assets/colab-badge.svg\" alt=\"Open In Colab\"/></a>"
      ]
    },
    {
      "cell_type": "markdown",
      "source": [
        "## 🎉 Welcome to today's assignment!\n",
        "\n",
        "Get ready to flex your coding muscles! Today's topic is Advanced Looping Concepts in Python, and you'll have the opportunity to practice and apply what you've learned in the last lesson.\n",
        "\n",
        "💪📚 Let's see how far you've come in your Python journey! Get ready to write some list comprehensions and put your skills to the test.\n",
        "\n",
        "Good luck! 🍀🚀"
      ],
      "metadata": {
        "id": "Dev3JxG_-T_I"
      }
    },
    {
      "cell_type": "markdown",
      "source": [
        "## **Activity - 1**"
      ],
      "metadata": {
        "id": "tvKyD-AefOCs"
      }
    },
    {
      "cell_type": "markdown",
      "source": [
        "### **Lambda Functions**\n",
        "\n",
        "🧑‍💻 You are working as a Python developer for a startup company that has just received a project from a client. The client wants a program that can perform certain operations on lists using lambda functions. Your manager has assigned you the task of finding the sum of squared odd numbers from the list.\n",
        "\n",
        "👉 Hint: You have to use filter, map and reduce functions to get the task done."
      ],
      "metadata": {
        "id": "q02nU6G56Gxh"
      }
    },
    {
      "cell_type": "code",
      "execution_count": null,
      "metadata": {
        "id": "zbzwgW7357yh",
        "outputId": "bd27a5c8-b0b2-4624-aaa7-c8fec674ea8d",
        "colab": {
          "base_uri": "https://localhost:8080/"
        }
      },
      "outputs": [
        {
          "output_type": "stream",
          "name": "stdout",
          "text": [
            "[1, 9, 25, 49, 81]\n",
            "165\n"
          ]
        }
      ],
      "source": [
        "# Import reduce from functools module\n",
        "from functools import reduce\n",
        "\n",
        "# Create a list of numbers from 1 to 10\n",
        "numbers = list(range(1, 11))\n",
        "\n",
        "# Write your code here\n",
        "odd_number=list(filter(lambda x:x%2==1,numbers))\n",
        "squre_odd_numbers=list(map(lambda x: x**2,odd_number))\n",
        "print(squre_odd_numbers)\n",
        "sum_sqre_odd_number=reduce(lambda a, b:a+b, squre_odd_numbers)\n",
        "print(sum_sqre_odd_number)\n"
      ]
    },
    {
      "cell_type": "markdown",
      "source": [
        "**Instructions:**\n",
        "\n",
        "1. Begin by creating a list of numbers from 1 to 10.\n",
        "2. Use a lambda function to filter out all even numbers from the list.\n",
        "3. Use a lambda function to square all the remaining odd numbers in the filtered list.\n",
        "4. Use a lambda function to find the sum of all the squared odd numbers in the list.\n",
        "5. Print the final result.\n",
        "\n",
        "**The reduce(fun,seq) function is used to apply a particular function passed in its argument to all of the list elements mentioned in the sequence passed along.This function is defined in “functools” module.**\n",
        "No need to worry if you haven't used this function before. You can get some additional information about the function here: https://www.geeksforgeeks.org/reduce-in-python/"
      ],
      "metadata": {
        "id": "Lp9tch5h6Vw6"
      }
    },
    {
      "cell_type": "markdown",
      "source": [
        "## **Activity - 2**"
      ],
      "metadata": {
        "id": "P-dy2ZcJfkJR"
      }
    },
    {
      "cell_type": "markdown",
      "source": [
        "### **Pizza Toppings**\n",
        "\n",
        "🍕🍔 You have two lists, one containing pizza toppings and the other containing burger toppings. You need to create a new list that contains all the toppings from both the pizza and burger toppings lists, but only if they have more than 5 characters in their name.\n",
        "\n",
        "Can you write the code to create a new list that contains all the toppings from both the pizza and burger toppings lists, but only if they have more than 5 characters in their name using list comprehension only?\n",
        "\n",
        "👉 Hint: You can use a conditional statement to check the length of each topping's name."
      ],
      "metadata": {
        "id": "26lox7n97hNf"
      }
    },
    {
      "cell_type": "markdown",
      "source": [
        "![food.png](data:image/png;base64,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)"
      ],
      "metadata": {
        "id": "OqXZlDfR_StZ"
      }
    },
    {
      "cell_type": "code",
      "source": [
        "# Here are the example lists of toppings\n",
        "pizza_toppings = ['mushroom', 'olive', 'tomato', 'pepperoni', 'onion', 'garlic']\n",
        "burger_toppings = ['lettuce', 'cheese', 'mayonnaise', 'bacon', 'pickle', 'avocado']\n",
        "\n",
        "# Write your code here\n",
        "new_topping1=pizza_toppings+burger_toppings\n",
        "new_topping=[i for i in new_topping1 if len(i)>5]\n",
        "\n",
        "print(new_topping)\n"
      ],
      "metadata": {
        "id": "_L80Blvu6beB",
        "outputId": "3c633970-4fcf-4e6e-c51f-1e1606c51506",
        "colab": {
          "base_uri": "https://localhost:8080/"
        }
      },
      "execution_count": null,
      "outputs": [
        {
          "output_type": "stream",
          "name": "stdout",
          "text": [
            "['mushroom', 'tomato', 'pepperoni', 'garlic', 'lettuce', 'cheese', 'mayonnaise', 'pickle', 'avocado']\n"
          ]
        }
      ]
    },
    {
      "cell_type": "markdown",
      "source": [
        "**Instructions:**\n",
        "\n",
        "1. Create two lists of toppings, one for pizza and one for burgers.\n",
        "\n",
        "2. Use list comprehension to iterate over both the pizza and burger toppings lists, and combine them into a new list.\n",
        "\n",
        "3. Use a conditional statement to check the length of each topping's name, and only include it in the new list if it has more than 5 characters."
      ],
      "metadata": {
        "id": "YUua3mlb7u-2"
      }
    },
    {
      "cell_type": "markdown",
      "source": [
        "## **Activity - 3**"
      ],
      "metadata": {
        "id": "dwxQUHpKfsmy"
      }
    },
    {
      "cell_type": "markdown",
      "source": [
        "### **Sales Data**\n",
        "\n",
        "🌎🛍️ Suppose you work for a company that sells products in different countries. You have been given two lists: one containing the names of the countries where the company sells its products, and the other containing the sales data for each country. Your task is to create a dictionary where the keys are the country names, and the values are the corresponding sales data. However, the sales data should only include values that are greater than 1000. You are not allowed to use any loops, and must use list comprehension to solve the problem.\n",
        "\n",
        "Can you write the code to create the desired dictionary using list comprehension?\n",
        "\n",
        "👉 Hint: You can use zip function to create pairs of country and sales data from the two lists."
      ],
      "metadata": {
        "id": "RzZvjLHR75SA"
      }
    },
    {
      "cell_type": "markdown",
      "source": [
        "![sales.png](data:image/png;base64,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)"
      ],
      "metadata": {
        "id": "_yl0PUcvADo3"
      }
    },
    {
      "cell_type": "code",
      "source": [
        "# Here are the two lists\n",
        "countries = [\"USA\", \"Canada\", \"Mexico\", \"Brazil\", \"UK\", \"France\", \"Germany\", \"China\", \"India\"]\n",
        "sales = [2500, 300, 1200, 800, 500, 2000, 4000, 1000, 1500]\n",
        "country_with_salesdata=zip(countries,sales)\n",
        "\n",
        "# Write your code here\n",
        "country_with_salesdata={a[0]:a[1] for a in country_with_salesdata if a[1]>1000}\n",
        "print(country_with_salesdata)\n",
        "\n"
      ],
      "metadata": {
        "id": "ih8qq03B70j-",
        "colab": {
          "base_uri": "https://localhost:8080/"
        },
        "outputId": "4b833c32-de28-4124-987e-6bd8c945be87"
      },
      "execution_count": null,
      "outputs": [
        {
          "output_type": "stream",
          "name": "stdout",
          "text": [
            "{'USA': 2500, 'Mexico': 1200, 'France': 2000, 'Germany': 4000, 'India': 1500}\n"
          ]
        }
      ]
    },
    {
      "cell_type": "markdown",
      "source": [
        "**Instructions:**\n",
        "\n",
        "1. Use zip function to create a list of pairs, where each pair contains a country name and its corresponding sales data.\n",
        "\n",
        "2. Use list comprehension to create a dictionary where the keys are the country names and the values are the sales data. However, only include sales data that are greater than 1000."
      ],
      "metadata": {
        "id": "xVqhKQNM8GXP"
      }
    },
    {
      "cell_type": "markdown",
      "source": [
        "## **Activity - 4**"
      ],
      "metadata": {
        "id": "I4ashz6Xf1fS"
      }
    },
    {
      "cell_type": "markdown",
      "source": [
        "### **Stock Filtering**\n",
        "\n",
        "📊📈 Suppose you are working for a company that deals with financial data. You have been given a list of dictionaries, where each dictionary contains the following information about a stock: name, ticker symbol, price, and percentage change in price. Your task is to create a new list of dictionaries, where each dictionary contains only the name and price of the stock, but only for those stocks where the price is greater than 100 and the percentage change is positive. You must use list comprehension to solve the problem.\n",
        "\n",
        "Can you write the code to create the desired list of dictionaries using list comprehension?\n",
        "\n",
        "👉 Hint: You can use conditional statements to check if the price is greater than 100 and the percentage change is positive in the list comprehension."
      ],
      "metadata": {
        "id": "sBvyWOQv8KqP"
      }
    },
    {
      "cell_type": "markdown",
      "source": [
        "![sell-stock.png](data:image/png;base64,iVBORw0KGgoAAAANSUhEUgAAAQAAAAEACAYAAABccqhmAAAACXBIWXMAAAsSAAALEgHS3X78AAAgAElEQVR42u1dBZgUR9Oe2XNcD3dLcHcIdrg7HO4OIRAhrn8MTdAQEiAkxD1flLgQRQIccnC4Btc7oP6ununZntmxlTvu9rof6tllb2V2dt63q6vfqpIkMcQQQwwxxBBDDDHEEEMMMcQQQwwxxBBDDDHEEEMMMcQQQwwxxBAjCwyZmIdYhGoecUrEECP8gB2p3souX+/Pc8UQQ4wMAnWwwGYjilguYqWJNSDWhVg/Yi3Ux9kQHoEYYmQwsCNV8wQI7DzEyhFrTKwHsbHE7ie2iNh6Yt8S20bsJLHLxG4QA84OE3uEWLQgATHECB3IIzhg+zsQjPmIVSLWnFgvYuOJPUhsMbF3iH1PbAex/4hdIXbTAGw7u6kSAf+a34gVED+dGGIEvxa3+lsMsfzEqhBrSawvsYnEHiW2nNj7xH4itpPYGWJX/QA1qKC+TixVtTT1/zc4wBvtBvc5X4qfUAwxAhs88MsTG0PsCWIriH1IbCOxFGLniV3LAGCD4b6VJ8BuU9X7Q8RPKYYYgYEfA2pL1bW2W2CncaD2B9gQImPvdV29/Ur8nGKI4Z/bL6mu/Z8csKyAfTODgA3kyIjJIHk4w/+bkwD77DPiJxVDDP8J4D0VQFdtAJ7RwPbHC+BJSAwxxPDD9W/HudGBg94U2P6+B3lNdCRIueNALlkAPNVKQkTTShDRsRZE9m8M0Xd2hogmlZTnemSreIAYYojhYkSoty+q4Em1dOWDBbZHBXa+HCCXKQSeGqUgollliOhcGyIHNYWo8W0h+p5uEPPUAIhdPBJiX5kAsWsnQdz6qRD3zgyI+/AuiPvgLsjx7YMQOaCJ8p4RHkEAYogRgvGVwQPwH9j5c4JctjB4apaGiOZVILJLHYgcTIA9sR1E39udAHsgxC4ZBbGvEmC/Nhni3pwGce/eCXEfzYK4j2crAH9/JnmMgP2t6crfCfhjX58Cseum0NfEvjqRPj+ydwMzAuBNDDHE8GN8a0sABGieuuUg4o7bFWAnNoOoSQkQfV8PiHmaAHspAfbqiQSoNsB+RwX2evL3NwzAZrZusvLY6xaGHsEnsyGyT0NBAGKIEcIYwBrJG/k3Xf/jGpyC+hME9SwF2O+FBtja69T7ViYIQAwx0icGMIQjAEsBjqdRBQWECMY1k0IGbLcmCEAMMdJnoOZ/i+QbCLypW+sjCVQrSdfxOPPTtXyIQS4IQAwxbs0yoC6xS7aegEoCGOzDdX/ce3dmKAkIAhBDjPRdCjSSlOw8R09ALpwHYuYOoVtzGUUCggDEECN9lwE4MNNvn4EEwIwEpFyxEPN4vwwjAUEAYoiRMSRQlNg/HAnctCSBSA9EP9CLbvXxJCAIQAwxsjYJ5CT2jaTfHjQngdgoiFkwTAkMrhNLADHECJeYACYKvS35ioS8JKCCEGW9qAtg24KCAMQQI2sPvkDIEtNYAG9x0crOwFvTBQGIIUYYksAjkrfohikJRN/fU/UCJgsCEEOMMCSB3yR99R09AdzVRRcMFAQghhhZf7CCIfMkbxkwUw+Abgm+e2e6BQIFAYghRsYOFgy8V7LKEVDrAsiFctOMQEwKsooBGPMD7MxMUyAIQAwxMm6w7cDRkr4Wv+kuAFbrYYIgIwHYgZza+qmWz9f9XxCAGGJkKPh7SPoKwKY6AE/losq6f71eBGQ5m7PU4XWTIWbNJIghngNa7GuTlOesn+otBsK/XhCAGGJkGPixow9LCrpuBX65SF6IXTYa4t6erq39zWZwNtMj6KNWjoOIJSPBs3AYeBYMBc/8Icot2gvDIZK8XwxmHBo9AkEAYoiRIeCvJinltY3gv8mDX8oTBzHzh5pmBfqAn1jUyrEU9PK8IYrNt7B5ifQ2YvFI4iFM9HoDggDEECPdBgv4lSB2QLJKC2blu6MiIObJ/mTdP9MR/Djr44zPgK3N9g6GJIG30S+PU0hAEIAYYqTLYHv92KnXujAIVwkY6wFiWTBX4CduPYJfA7YDCcj8/fmKtxC1YgzE4WcJAhBDjHQBP3oA30t2tQBUi5rSgdYFdAQ/uY14cYQ2kzMXn635ja6/kRx098l7RJIlQdynd0Nk30aCAMQQIwRD5u6/bwt+dfaPGt5Sm/nNIvzeNf8U1e3ngM0DH2MAcxO9BID3uSWCKSE8NxgiyTIgomd9s8YgggDEECNA8L8k6XP/DeBXgBbZq4Gy17/OCfxTIXLpKM3tNwO/Z/EI8KwYDR7iIWDk37N8FHjwNezv3Os0EkCSIK+ROtQUBCCGGCFy/Z+SXOT8R7StrkT7Lfb2tfvrCfiXj9ZArJvN8THc+kPPYGZnkNrXAKl2GZBqlAKpRRWQx7Ymfx9KSUEjD3WbkHkJnpVjQO4oCEAMMYIZLOI/Q/LV9/sKfRpWoPv8SlDPHvxRL421Bv8Lw4gbPwikRhWsOw2VLQzyfd3Bs2yUAnjec8D/vyQIQAwxghlsrz9RcqPyq1pCAf2b0xzAP41u11mCfxEB//ODQSofr28rJsvevoNslyE2CuQpCXRZwOIE9H0EAYghRkjA38EN+OXSBSF21XilyMc6m4g/gv+V8abRfMXtJ7fE9ZcImUj20XsvqAkZyCNaKiSgBgc1AhAxADHECBj8DYhdkRxUfjS7j6zVzRqA6ME/FWJWTzCN3GuEsHgESA3KO4FW34lYvS/3bagsB/C9iAeBBCCCgGKIEdiavxKxk5KTyi9nDMQ8n6hU93EC/5pJygxvBn6c/ZeOBKl1VR9gG2IOvvc50RHO+DRwiB7AitGZagkgqycX2dWj/l+YsMxkbOaPJ5bsCH7inkc/2te01r+P0If8na7tTcGfqMzc3eqCEdAG0N+QfAuO+hYcaVZZiS28PFbZPbjFBBAhJhUxstDIRexPyY3Ed3ZXPyW+hj17FqzDrcBBTczAyQPcWFrsuikJMHKqXlLxALrUuWUEYAR+WWIDiT1GbCWx9cTeFCYsk9hbxNYS2yy56P4bNaGde4nv4hHmKj8KfjLzj2nlUzXI8LmMiDYQG8sdh21fQqobaFHFjAB4DyJdXH1eM41bKF8Ru+wY0BAmLHOYxeyq3EYmNnMp8Z0KkWpmnyn40e2f1kEXzTf5XAbyJGKFVFx1IXbVlgRk2++XbgTAV0XtSGyT4YNvqGyWJkxYJrXrdrNqZNe6SjXfdQ4qPwT/slHW4EdiuLcbSHFRxqCfGfiPqh40jhj1FpuTnpJc5CQ4kEC6gH+hwU1Jk3x10zfFTCMsSxiT+N5xu1LJ14XEF1NyzdJ66WO4JHi0D0j5cxjdc7M1/0VitQ3bk+y2MrG9kl1zUvu4wuVQgz+W2Od+RSyFCcsC4PfULUsVfkqpLgfwr7SS+CbSZB756YEgFctntzbnvZA2BtAbtQpFiP0t2TUn9QU/EzT9E6o1P7v9Un3jawL4wsIG/FjIEyvsUImvg8pv1TjTPH0tuYfcShWK2IH/BvdYPwvwGwPtOYh9LZknKpndv6bePhTK2X+ZBfi9IgVZFheVsCwFfrlEfohdOU4t5OkA/lcnmEt8GSGQ2V+qWcopKs8IYKLLbXT+729yJHDdsOxmxpYKh4kVDNVWX2/JpiuqEfg54nJAwfwFoXDBwlCoYCFhwtLd8ForWKAgFI0vCjlz5HQFfil/Toh5YYSy7neU+E60l/guGQlSk0pO4L9umJk9AcTfXjTE31K52+vcUqFVqNb/ccR2SRYlkRn4IyMjoVbVWtCnSx8YM3gMjBsyDsYPHS9MWIbY2MSxMHnEZBjcazDkypnLWVsfGwUxzwzS9e+zBP/aSUoFXyuJ77JRICVUd5L4soj/C4aldSBB+ImcjNloKHKq7yfB2M7+E032I3Xgjy8UD4N6DoLpY6bDlJFTYOKwiTBh2ARhwjLEkAAQ/KMGjoL8+fJbL0dlLwlEP9g7eIkvE/r0qu+0Fcew84ZJbM3feBx7HWoGRquEsorY08Q6WxBGUOMPg/t/kz/BRQsXhbFDxlLgi1lfWEYbXnMTh0+k1yBei47gR4nvnZ3cqfzWYSHP4TYqv9EgD23uVnT0RQjBGeGHtxBU4K+2pM+R1gX9YqJjYEifITB55GT6QzA2ZiZmJ2HpNePzt0gAZUqWcRWIjhrTWgO/ncpPkfiOtAY/ioAmtAUHUQ7DDvYWyBfimZkl30Wo7xkZyrwcti0xxbD1oJv9G9ZuSN1+ZF8e/OIiFZYR4EdDz7NKxSr24GdxKpOmnX4X8kTw499mdgIpMsJJkccI4BixvFkpY4oxyVITFZKimvJEwODeg2HSiEli1hd2S8A/dfRUqF2ttj34mcqvYy13El+tkKeJyo9JfO/vQesEmAT9rGIAaM1CvTbPiPGxyfYftUIFCvn8IOIiFZYR4Mfl5rTR06BJvSbuJL5NK9NqPkYX37yQ5xhrlR/GAx7vB1LBXG4r+vD7/v1drt8z1fjOSACMaXHNhWsvAX5hGQF+do1R8I+ZBq2btXan8qtZWmvDHXQhz2cHgVSygPtyXvq9/9FZkQB+MBYrYARQrlQ5nfsvLlRhGQJ+MvN3atPJncqvfDzErp4YmkKe5L5UpZg/4DcSwLiwIoCypcq6JgDjUoHfLnS7hDA+f9zQcabv488FxY6FvY9YzmRu8OOav1enXuDxKJV0ZUm2Bn+RvBC7fIy7Qp4o8bVS+aE3QFx/qW5Zf8Ef3gTg1gMwAgu3DJHF8dYf8PpEf0dNoe9jPAanYzE+Dy8qNLacyWwkYDwmf8gunMCPv/fAHgPp1rNl0I+BM08cxMwfqnTvcSzk6SDxxUKe5lV3BAH46wEg6Pt27UvXb70796b/9xf8CNRJwydB9w7doU2zNlSBiBeHv54IHvuYxDHQsXVHSGiZACMHjNRI6VYBzMwrYp6OmfnrRWVV8OPvMqzvMMidM7eN0Ed9LDoSYp4cAHEfzHQW+thKfNW9/k613BTfoLkIkRGRggCsfkz8EevX0ksma1WrFdAyomK5iroMxFZNW/lFAviZKGDChCX2PphAgnkMPAncKuAzcCPZ4fdCrcWMsTN0t/g481rCaQljBD/+VqMHjdZ+K0eV35wegRfyZL33mMS3XyNb0LNjKV2iNHRs01FbmggCMPygKNbAtZtZ9mCXdl1g6qipmpLQ6j1YAKhl45Y+7xMREUEBzY7H6eLC46lUrpL2HnxOg5FwMvSCH6oAGc8HAnzkwJHQvX13aNGoBdSrWY8mW9WtUReaNWxGz9uI/iPod8HnM28ho48/PZc8jOCKFy3uTuU3tYP7Qp4vjrCX+I5o6Qr8uB3ev8cA6EAIQCwBTAyBizNW0/pNda9nbIleAc5qbggA1+pVKijrMY/s0b1fh1Yd6N+d3gdvMXMsX958Pj8YunAIKj4ekJGzPnofeE67JnSlBBUXG2d7EeJ6uEKZCtC5bWe6LOLzMbKiN2BcfuG5KF+mvDvwD2/pupBnhFMhz8kJthJfdix58+SFHp16wqDegyGhVXuzYxQEQIFLZii2dYOvR/Cz92nTvA2d2V15AGOmUfkxIxDe5erXrZ+j+86OFY+7VPFSmqKRvU+e3Hl0OQ3pdqEP81274zno17UflCxW0vSCM5rxOcWKFKNxFXyfrBgbMAvyVq1c1Z3Et1cDReK7zoXE166Q51JCDLO70DiClcqPHQvWvOia0A0G9BxIPYD2ZAISBOAw0zE2Z4YgdAs45hKOGDCCFn7QxRKIa2zcVbAkJOImsyUJ1jDg3yfhjgR64TFXPCMv9mYNmukuILfVlYzPa1inoU9wNbOTgJnKD5c8riS+basr0f5gCnnOVQt5PtSL7iBYgl/ddoyKjIIOrTvCoF6DoU/XPpQEBAG4AC/eYsCu+m3V6VoeXXE37rYxeo9rY1xS1Li9Bjnx7an76+9uApIAbivhhYZ6crYrkd5gMdsWrVm1ZtBl1fjX4TIJazLguTVmaWZ68BMvr3nD5u5Ufg0r0FJeLHXXXuLrUMjzqf4gxedx3O7D89yaeK3o9vfp2hf6Es9TEIBLHQDeIrtjTAB/aLO/uw0O4Xug4bo/UB0AFpFg74OEwL82PcBim8wihaaeIh+ZRoLF3yizkoCZxLddy3buwF+1hAL6N00kvnzwj0l859tIfJ8fDFLZQq72+jEAO7h3IgV/v+79BQH4swTglXf+BqvS+33S210OKJnF7oJ0mKXYrgYumVhwMDORgJnEF4OfriS+pQtB7KrxoZH4LhwGEiETN+CvX7sBDO6jB78gAJcXVKgUbVZADcX7pCf4/U5mMUafY6NAyh2r3No9zyRSnUhmLONW660kAR+JLzk21GAwIY2txLdQbohdMsqdxNepkCdZ90sNyrsCf43ba2ozP4JeEIBIBkq/ZBbuQopoeRtE39cDYpeNhthXJ9BbFLtgFxsnb4CPWKMCk+22ZBa1I5X4Eu8EC3myLU9biW/OGIh5PhHi3nNRyHPNJGWGtyrkiRLf1lVtc/rZsVSuUJmu+RngGfjFEkAQQLols2DJ6uiH+9C9bSxkEffWNKVzDRr+nzyOvetxRnRDArjj0S2hG/U+bhUJ+Eh8R0yG4f2HQ97ceZ0lvhEeiCHfN+hCnkzi262OKw8K094H9hxkCn5BAIIA/EtmIRdKTIyLZJa8OSBm/jBv7TpV3KKZ+hgFw9LRIJcr7IoE6FZnywRTEshI4RNus9JCnoljIb5gvDuJ7+yuLiW+U3wlvmpWn6byG9TEVSC1eJHidI/fOOMz8AsCEATgeqYb1m8Y5M7lIpklJhJi/m+gksyC7apUAYvxgmczHV0Lk6WBp0Yp1ySA0uKMFgyZeRxMjOWo8pvQzr3Ed7GdxJfM/GNauVL5YYXhoX2H+YBfEABXD4DtM4vy1NYlq1GjgI1SUDPuaqZ7oKcy062d7LOvbSQDjQTeUvbCI1hnGhdaApRgo1fCSCqjzgfTPvC5GHZB0MjBzVxLfCOXOkh8p3fwEqQN+FEROnLACBg1aDT07tJHA76ZYVBwQI+BVI+SrQigfOnyWj4+znD4owrzGp4XBjAm73UE//SOpjMdD35TEsCtsPXTIO7tGRDRvqbjDgGzalWqKcc5ckr6/4YjFMM4CAq43Kj8IrvWVTwhp0KeVOI7Wgd+n0Ke93YDKS7KkSDRS0NvDfNTRg0aRZYAA8kMP4jO8qZG/o5bgx3bdsomBKAGrkoULUGVdKjB79+tvzCD4XnBWgUVy1Z05+aOamU605mB35wE1Oe+PxMi+zZy3iZUf0c8vgG4zk3n35Gej16DNImv014/7nLQnn3BSHznqRLfR/qAlC+HO5Vfs9Z02xSPt2fHnpBwR3vq3lsZ/r1jm07QtEHT7EEATkkqwhTDbEVHWS+L0BPAmiWz2IHflATYffJeSChm24pWZMCON73N9nxEqCq/umWV3Y71LiS+Kx0kvk8PBKlYPld7/Xh8LD8kkPORLdKBhYW2PXVEQg1lX9tiXWt24Vs9pv0flwRkKRE9o5PXA/DIWeJ8eCoXVYKfVOLroPJbNd5a4rtwGHgICUgV4m/l9xcEIMwG/I0r0XW7MZJtVr/eyXxe85pKAg/0AikmKnOTAFP5lcgPsSvH0QQfJ/DTQp5mEl9GCGT2l2qWutXfWxCAMIuZrnpJmrRiVq/ebM2L7i4N9DH3f73iItv1tlNI4C6IQTfYxRr4Vp4PFD7FvDBCWfcHK/FdMhIktiNya7+vIABhJjNd2cJ0794xmUUFPj4H3V0MdmFBCzS8j4kulDw4ItDei9cKvD8TYhaR9XDx/JmLBNi6OTYKYp4ZpLTucgK/bSHPIXS7T0qo7no7VBBAEATAqvJkZ3Odv8/AXzgP1fM7JrOot9iqil7w8xQZq3Kr3p+vpLNiIIyPGZhqBXBmxZz4SkUDIgGtkpON+XU+ZC8JRD/Y2w+J73Bz8DOhT6/6rr5HBl0HwgPIDuZ40TOw5YqFGAJex3r1aslqpTd9oi7QZTSmb8dW1rw3YUoCuLbGGbS2f00uZN9qt8GdD177cGfn0BXyHGpfSMTj5/cQHoCNEKh6zdqwcOkqmLtoOcx9AW1FtrLnFiyFF1eshjkPPQGRUVHObm5kBMQ83s+/ZJZ51sD3IQIkgReGk9dOUpYNbAlhJAG6vTYNIlrc5igWYr91xUpVYMnKtfDC8ldh3osv0d994ZKXvbb0ZZi/eCUsIPefW7gMCscXcad9GNPam++gLltMl0EIflrI00biO76trfYBK0ez63YROf7nHa7becSeWbAMHn9+CTzx/FJya26PPbcYnl7wEkyb/VD2KAvOTmS3nn0hFQDOXwe4gHYj+9g58sWvkO9++ipA2/ad3Kn87ukeXL16Ow/AUOEGu90wEjB7fxozeHcGRHap41o1OHr8FLhEvvNlYmevqedC/e3PpylGHoKJU+9yV8izf2M/JL52hTzJ32Z2ogTrBP5SpcvCPzv2w1VQjtfuN754E+AUeeL+cwAHbCzlDMBxcj6+2ZgEkZFR4U8AHo9yMjt07gZHz6ZByvGLsP8E2qVsYfuOXYCDp67Aof+uQqu27V25llGTEoJPZlGBTtf/HOg9FttgMasnKDsMFhlz9D6qBgc1dS0YatUmAfYcPgNHz12HvUfPwQF6Ti6Sc3KekuGkaXe52/7sWEsJ+K1zVvlFLh9tXcgTvYL7e9A6AVbHz67X/PkLwA+/b4Uz5Dj3HT3v+DsfOHkJdh+5AJv3nYUtxDZb2Kbk05B05Cq8/+VvPkVmw5oAOnbpDicvggaGw6evha2x78e+639k+u83cKg6u0TarnOjyLo06GQWBvgXh1Npq7I8SLTcA2e3uEtg6QlQwdAUemxROvfZnATY96zXoBFs23uMnoP9xxXixxnz0afmuqvi27QyDYBaxircFvLE+AhZUkkFc1nGMxgxR0dHw8df/gjn0pRjZr+p1XWLjx8ht3uPX4Z/D1yAbQcvWtrW/edh94k0+PCbPwQBhDP48Ra/K7r/E6bcqXMtLZNZetRzrFfvmMyCACBLAnrBz+kB8oyOID81QKlhbyOEYX/Dgpi2JMAEQ7O6ekFkERxkF3jFylVg4+bdcPqK4kovXrHGPgDItA81S2saBnuJr1rIc55NIc9nB4FUsoDl8fLHsfatj+hSJcUF+AUBCAIwBT+d6chFNOfhJ+0j42yma13Vz3r1djNdX6VwJbvQc8SA3L2u4g0wUCywLn+FM6mZVsAoGMIKRFKOaFsSiFAv8vj4otSlfuvDL1yBXy4fD7GrJ4amkCf5v1S5qCvwL1r2CvVQ9rsEvyAAQQA+Fwqucy+Siwijw65muvrltRz9oJNZ/m8ASEXzmpNNk4p0NlR0AonmklgVOLiWNtMK6IqLEG8l5rnBINu41bznk79AQciTN691HISBv0heiF0+hsqenVV+E5TqPVYSX0KIUp0yroqfPPzEswr4CXnzZO7mtxcEkI0JgAc/uo14Eb2y7l134L+tuLbdZifxdUxmQTd3biJIrNxXhEcfX2DHUKMUTXqhZGFLAok0mh5nkWugkQAmJi0my4tSBW1BxgPetrxZnjiIWTDMWftAC3lOtC7kySS+LarYH5dKTlNmzKZr/gMnL/sFfkEA2ZwAjODHNe77n23wponazXRkTRr7coiSWQgBSNVKuusNQNxr+ekBSu77XH0Q0UgCuJ8e60QCqFIk5OS5vbjzTGtX3iw6EmKe7O8s8VWFT46FPDvWst2yZIHKQUNG0l0JFrfxB/yCALIxAejd/ktw5hrAt7/8A3nyuHBzC+SCmBdH0v11VzOdU736RhXcqfXY34vlA/mR3srWmEoCHlMSGEIVdfQY19uQgLpW97ism2+qfbivR3DaB17i26+R7ecy8OH29PHzN+DImdSAwC8IIJsSgBH8/10G+PPfvVCseEnriD+b6eKiIebZwaFJZiFuutS2mn/JLAyc+XKAfE83ZbYkwJGZYGj+ENOdBTwWnWrQKBhC1SAhgog21VyJhXTah6kdQlfIc0RLV+Bv2LgZ/e2OnbtOXf9AwC8IIBsSAA9+vHBOXABISjkJVW6vZr3XL3u3zKIfDlEyCwK3Rz2/waYjgdgokKd1UIAzN9FeMLSQqQatBUOUGMj6PbJnfWfVINM+DG/pWvugSHxtCnlOTnCQ+Cq/TZXbqpLf7AT97XjwCwIQBOAX+HH2wFmkUZNmutnF0s29q4s7N9dNMktiM1dJNk5iG7yVR7dS3tOFYAjjEY6qQSwzNqyFdTcipn3o1cBR+xCnaR/sJL6EGGZ3oXEEK2+IeWXFipeAP7YmU68Nf7tgwC8IIBsSAFP54boR148dOnWzBj/v5o5r401mecO6Qg9NZlnskMxC3stupmO6g6ioaFdae/qcgU2UWXSeC8EQNtu0IgGtzBghgSnt9Z/FtzFrVz147cNctZDng72UXoiWEl/lfOTOkwc2/Pw3zU/A7drgwe8lgGRCAFsFAYQvARglvqhsG5g4wkHiq850BFwhSWZBgM7o6N3ms0lmQTf35792QOduPXVbXnYeCrbA0lSD8+xJgNYVWO9cYQiDe1jBR3eMHWoqMYNQaB+e7A9SfB5HiS+KknCHBndqUo4HD35q6uspARwTBBC2BMDvDaPrj3vGk6fPsgcWc3M71w5dMsucHl71nY2bG1+kKPz6z06qSTh8OhUGJA7XVWa2IwGp1e2KanChjWpwgaoaJDOzlWBIIwHUCrw8jhYdRS8o5ulBtOCIVS1DvfZhnL324fnBIJUp5Erlt+q1d+j5CBn4ufdAAtjDEYDVUkAQQBYkADOJ70OPP+sumaV5FWWf3I2ba5vMQtzcx/qCVMA5mSVHjpzw5fe/w9lUoJl3uFRBb4URluSiw45UvzzIC4dqiUS2qsFlDqpBtkNA1vq4BKLnY90UZ/BbaR+YxJeYdHsJV+B/ftEyVeUXOvD7EMBR4QGEHQEYt/vwIsKiFrZAYvXqa5VRi3NODS6Z5QU1maWETTIL6yBMjgf19ue5ZBZ2zgqC+9wAACAASURBVNFreejxZ5wr3rD3v704nWFpfsFcZ9WgrWCIa1LqDH4XhTxR++CgOWDf776HnqCkfcBPia+/18fuo5cEAWQ2AuB/IHafNzweasStP6DZJTV3XbnFx3AmxbXj2jc/dJfMUqEIxOKWmZt69bbJLIoGQKrkLpll+Suv+ySzMBLA74FAWMARGPt9LEmAuNe4xnalGiTP4YnO6BVYNSrR3de0D0NttA8j6TLFPh1Z+V7jJk2nnhB/3YXy+uOvr11HLoldgFtJAGZAZxc+LdxAQMG03ugWY4ESjOITvNMtISz+gNFhTOE9p1atwVt8HKvCbPjlH4iNi7OePWVjMst0V8ksHqdkltruklmeen6RaTKLzxKGPGfN+g8gKjraVZqyVDgPjbLT4CAjAU4wpFcNDtepBjV7w6Q/gfG84GtecyHx7VrHXuKrAqvPgET6uwYq8fWXAHYKAsg4AjCb2SnY1aozbJsOhR4IYMzOw/JUKNfFCjXoHu85dAY27zwI3/+2BT775hd45+OvYM2bH9Bg0Uur18OyVevIjPoGvLz2bVj3zie0Ppy1yk/yNqvAwNjHs3SCHt719SuZpXllV27uXfc8SAnLKplFTwIXqSfw0Rc/QN58+e13Mdjn5o4FeVYXr2qQl9+aBOfQhWd9Cdw0KaH5Dng+zMDPax8GNnGl8muT0JESfDASX38nnaTDggDSlQDMAM/KMSlgv0lnbKxFh5+F5bh+37KHromx+OT0u+6l0fCWrdvRLTIsRhmXIwdERUWRWdQTkgq22KQSu+tg3Xpayx9jAB/eBXEfzaK6fwYKFNNY5eZ7k1lqunJzh4+eQInNyc3lH0MCxHP1/cYtULJUGXsdg8ebrINKOwrEuc6CISxRrtUUXG+yBFjv7WNAy5kb38OofRjdyl7lpx5/3foNaRmvY8S7C1bl5881uf3QRUEAoSYAH9Cr7jzeR8DjTMbSOBHsL61+E2bMnkP3vstVqAgxMbEBlGc2aeLoplmlLhBICCVvDvBULUFbcEeNbQMxTw0gpDARotHNJRe8jCW7Fg5V6/cn6uvV921oTzTqxYPFVvG8snW+00ynC2oSEkDvCAtfVq1e054EeMHQiJbKMTqoBlkMA7c2Mc6Ba3vmDeF9fAz/pvUxsAI/kuG0Dl4istE+VKhYGf5NPkrPCU4M6Ql+XYyF3Npt/wkC8IMAzAJ1TLKJazqswIrs/vvm3bT89AgyA1atXgNiYmNta7zjCccLhTVmkG9FJxgsnoFr+p71qEvNLnBM6qEuNc6uw90lszRv2ZqeH3R1D5667FcBC35n4xRxmXYd/A+aNr/DPibAkwAhKApMuxRlzqMxq1Zs9jcf8KP24Z5uNGfBSfuAHt1vm3bSLc9QSHz9IYADpwQBBEUAZmt6/BHx+acuK2t4/NsX322Eex98HJq2uAPi4nKYuug4O6I4R5YzQUsrPAaPbJ2pVyQPWedXAXlMKwUME9u5SmapVqMW7D54Go4TLygQN9dIAuhN4bnu0r23/RYhrxokSxQEqPlSxrokuWwIHpqXLFclvo/0se1TyGsfvlC1D6He63dVC+LkFQX8By4KAvCHAIzAZ7M9BurQvcfXYPR99pyHoVadej6gpoCnYPfcerD7k4lnRggFcno789rWqy9D3XacuYOZ6YyJTehJYNB02Mhx9qpB3ppXVoqQGsqM2RGBL/AtJL7YpLRYPnfahw/02of0Bj+fB4D395244jj7CwLgCMAIfLYHjxc1blNhqub8xS/BHa3baetdHgiBtm2SZTwm8h7EIiMUw/v4mCy7eK0c2GttC2K4KJ7BJ7PgrgWu3UOVyaatY1VPAgOKd86+n/veHvslAVnSUPC+YE4CrjoVGbQPWLZMqhDvSvuwbNXrIZf4+qsCdJMHIAjgom+kmgEf123ovmHl2Ckz7qYpm8GAngGdgTQjZ3j8bPa5ARODycWeL38B6g3hTJd85JzpXn/QJKAKo3BL8YlnFrhXDVYqStWKRtWgGxIwLW9Wo5Qr7cP/WWgfMlpktvuocx6AIACOAJhABxtG4Gz2vw2/Qr+BQyA6JsbQTTjCNegiHMAeEyVBscISNKklQa+2EozvL8FDEyWYf48MKx8jbuQ8GT5ZIsMXK2T4ZpUMP6yW4btXZfj6ZRn+t1yGdxbIsOb/ZFj8gAyPT5Nh5nAJhnSVoE0jCaqUI7NzTmvAe1RS8MiBE0CZsuVh1Wtv04sdSYASqIXoJ1hdBVUNEmBhkFUyFNC0JIGSBWhJcr7MmBMJ+GofRoDUuKIr7cOsex+i5yGQQp63QgQkCOAiqKq8i/Q+Ku4wcINbWcbZ3k0Aj7ryEeZ/K1JQgraNJZgyWIIlDyogTv5chot/ynBjqwyw0wOwj9ghYgeJ7Vf/v1e1ZIPtVf+eQuyA+jq83UNsmweu/SPDiR9l2LhehtefleHBCRL0TpCgUhkJoiItjh09hAA66FavURsWv7SGah/OUZnr5ZDtd5upBt947zNNAemoGiyYi2YsMsGQEeiW4EfXn7xGalfdlfZh5JiJVLWZXhJff8/VDhcagGxPABjYwxOGwb3fNu2iohz+wra8uEyAY3y8VFEJEslsvGiODD+tleHsbwTk2znAIogR9OSxm/964PoWGVI3y3Btk2Kpm5T/p9lY6mbf16RtUQmFkADsILZb/UwklV0euEqIIelTGV57RoZpQySoc7sE0VG+3gESmeyCBHhXvE69BvDa2x9TL4oFBEPlDWgkcFxRDaKHVqhwvE6DYEkCOWNAvrOTj2rQbBdAp31gZcQcJL7de/Wj8m232of0rw/hbgswexJABGsO2p12yMVmkXfd+yDkzJXLNfCZe88/hiBqVkeCJ4gr/vNrZGb/Q1Zm44PqrEyAfmOrRwMsAvi6ClajISGwWyfD91Re5/F5n+tbFUJgn4mfR4lhp+phEGLA5+z6TIblj8jQt70EhfL5EpzH4xwQ5ImgY5ceNHaCszV6BUwAEwwwfFSDxNP45e8dUK58RXeqwUgPrVrkWTFaL3TiTX2ciqIcypuxz2txRxt6TP5qH9I1S1TdAvzXYQswm3oAyoXauVsvKsktX7GSa+AbwYBE0JSAft7dMuz8VJ3hD3gBj+C7xs3KRoAjaN2APBjTf55KDFu8Hgb+jRKCetwnf5Jh/fMyDOwkQf48RnfXmQiYBxUTEwOz5zxClwJshyBYb8CoGsRA7dbdh6F2nfr2ngAvGBrQmCYRUb3AQlXXj0sArDWAj2GCEXmOG4lvjVp1aP7G8fM3013iG+pagNmWAJjlyp3b9RrfGD0vXUyCe0ZL8M+7Kuj3K+41gitVnd19wS6nO9j98Rj442KEQD2EHeqSgSxRjn4vw7KHZerZGInAbnnAEykmLH3y1Y/UbWf7+yEjAUIq6HrjDsQdbRIcVIPc/RqlQJ7SXtklYOt/ch8fk2qWchA+RagB0HI0cQuXOgeC3P60SxH3V03pthBIticAx+0kyTcohrP92qdlOLdRVkC/2wt63p33x4W/9YTgu2ygsQckgySV3AgpYBxjWA8J4mLceQRMEMX+P+u+h2nFYgy2Mr1AMHXvvYKhS1ojjV59B3p/UzeqS1T0lY9XLF8O53iP+n0KFCgIP/2xjXbv2R9C8CM5YgyBZQ3id3PrNVnuAAgpsD0BWLn6/IzfuYUEny/ngnjbPRpIsiLonciA3WeeAQ0qJiu7Drs/k+HO4RLkzeWOCPhtU8wV+Ht7itLnPsglgZlqEGfjMROmuigzJttLpW0mClzafPr1z8p3CFLoY/wOmFeClnz4LD0/+BlHaGzBPrB4KIAsQEEAVsE9bo3frolE999pJH2vd7a/FWv5W+0ZsF0HXOqgV7D/axlmDJUgNkZPnE7LAozcr3/vM6UkljrjhYIE2PugeOue+x915eFpbr7sbuZHwzoMF0Ik8eXBj97ENz/9RXMfMB0a08OxpgJ+DnpOdiSgIxI/dgDCnQBkfwiAn8WqV5LggxfUi32vd4suM67pM84r0McL2E4CBj8Hd3HnDfBLgiefXUgj+cats2BJgKoGCUCfnb/EJ2gXiPGgwKIs+N6hTO5hM//XBPz8ThSzTl17UgIwxgWsAoD7jl9xDf5wJgDZrQfAJLo0MJhDgudmKZF7dHezM/Cttxtlr25hk5ckUdhU+zZ9/MQp5oLuOsYE0H0PJjhoqhq8rpQZy5svn2lMwnlC8D4X03rf/vBL06VLsFF7JCwkAAQ63U6OjtH0FYy4sAIUrTHBxU6svr8/AcBwJQCPejuUWBr3RUyDfOx+lzsk2P0/WdkO+9cjgO9Cd4D/xzgILg+Yp/TYVO95tfIGeAFRr36DKAEYG2IGuqbmVYPoYWDLLZZSbEzRVvI5FMP7mNpsjBvg8W1KOqCm9QavZzAeL373PWTNX6JkKZ+4BQPkpOmzaPk4jDk4VVZyUwYsnAmAgX8C9yVumLp26sWJa1iU5tJ1PpnNrm0SwA8kYKhpCsiy4K+3ZaowZB6WVT4Cm2XbdehCZ8JQkoBWV4B4GKgXePfjr6nEO3fuPI6zf968+aA3Af4H//uWahiwNkEowG+Wao7R/l0HT0ORosV8CIDVWsBKwiy12GrL0F8FYDgSADuw8Sbg1zwAmQtW1a0qwbYPlS296+pMJoAfHBHQ5VOyh55LzHtwChAyNzehYxetMnKwclrfuMBlmlJMy42R2RwLq06beS/06T8Y2nfqSq3vgESYMWsOXefTGV99frCBSqtKyGy7j0qmCbCLFivuSwDquZk4dSaQw6EdlZTtwctaqrSuCMgJ/9b/4UQAkertMAvw32Qad/b34T0k5WLdI2b90BGBcp/uFmxTtkwxW5ElH1ktCdiFjq46qupCoak3iwsgaFAzcF4t1IqeAc7uaBiFx8fwb8fV4p3GrL5gwa8kCimpzeiZJO0/CZt3HaKSZowz+HoAioc0dMRY2H3oDC26gv0gcGmDVamYTsCsFVh2IgAG/k7cgV/3AT83A82draxZ2X6+AH7ovQEWQMWYyu/rZSgRr196SRalxbCeYiiz6qwqPNFS7SrAEZQsK5TNzqGsbcDAj0scBD6Wd2/drgMULFSYZjXGYWajjTYBgYnVotEw92HYqHHw3W+b1cxL77Hy6//ssg3IDqY6sUtW4GdBKbz43luoXJQYvMKLVIA/faXGbEfl4Dcy1KhsTwIsMHj/I0+p222hLaTp1JUpPdp0ecF/gwb7MAclFEVeIiOj4LkFS+kyRVnm+L/+z+oEwLb68hDbqR5kmhX442IlWkwDwe/r8gvgpqc3QElgt4emRDeuZU0CvPv76hvvUVeZJ4Gs3MId1+5tyKzPXHvq3gdQJBbPEQ/UhUtX0fO056j/4A8XAnhXPcBUK7cfwY9adgz2GcEvwJoxJMDEQ1gApUltaxJgXgDu32/ctEtJtjl5OUuSAAv4IUAff2a+NnOHwgNgEuvcefLCX9v2QcqpNNiScj7b7AKwg5jGzfw3zQJ+GHjasEoF/z+yT5qssAwkgc0KCWAyFRMNmQUGWfAL+wIYVXBZrZMzzvxIAhUrVXEnTQ5ApYhp10cuAmzed5aAOvyXAGyvvyqxq1bbfczenq+6/f+I9X6m8QTIcuDwtzJNq7ZSDTISmPPwk1TVlxWXAqyHxFc//qmVDJfsejXYmU3MpFnLtpB05KpaBCT7xAA2mKz7dXvOz8w0uv0C/JkmJrBXEQzFRHsFQ2bxAOwY/N2vm6hcNqstBfB4cUeDb+EuhbTas3KOKlapCpv3noHthy6FPQGwDx9t5fozl3JQZ4kKUlievnD7MyEJEM8M6yuYEQDvBbRp15HGAvgeDlmGAFIBVr/xvn3eQeuqEDW8JUQOagqRg5tBVGIziOjXCKRudUFG61UfpFIFfTshqQRQvmIV2LT3dNgTAAv65Sd20Mz1ZzM/Vr698IdS3Ybf6nOjZLOyQJcPZhV4AjEnArP+DE/Qno/dd/D3vPCvpTGBFA9M6G8dD2Bu7so1b2rJOFnFC9AIYL09AUQ/2hdyfD1H6dr88SzI8endEP3mNJCXj6K9GT2rJ4DUtJJPafLsRgDsgx8xifrrDpxu9+1V1ptmwDFe0CyzjUmBqYptu3LLgld81R+3Fz3/nDSu7JY/lsYV5bD6XFNN/nbv/4PxgHTiHrUuADs/aerxBUICTCyE73PpTxmqlDWXDDMCqFa9ZtCS3MzqAUTf3Q3i3pkBsWsmQuzaSRC3bgpEY2HS5weDB+2F4SA1KJ+tCYDN/kWJneJmfx/Xf/pQia77efDzF6ZRrUYv6CS1KOZe5TlX/pbpRYkltJmklZbGSvJmvzkRAf8Y/Yzd3tqBflmy+rptHoNwyXzmp70CyHOZB8Sy9AIlASNY8f0xoIrnhxY/3eUJKIdCFxQk7/nlS7JjGzK6533dm5Kb2UnANQHc2x3i3p8JsesmQ+zrUyBu/TSIfnmc0psAbclIkBpmbwJgH/qgWeCPrR+xFv+ZX61df/5+KgM+ufgObZDhpcdkGNVLguZ1JahYWin8id11WjWQYMIACVY/JcPBDbLWpMNp9tMBhzx/83syzBgmQb8O/hkW23jhfpmSEh6v1fdizUXwOBvVlKBkEQla1FMLm+xWZm8WCA0I/DuUPXwshornpWxxiVYOTvpEIQKeBPytL0B/C/I7DOtuvivACACr8Jqp+gQBZI8lQC5iKYbZX3fBLH/YG/W3Aj9/weFW1MSB+vp2dpYnlxJc/HGtWiNvl8fHPec/j8785HnvL5KD7geIYKbFSDly030OISbc9TB77atPKn/nPRd35iWN61s8kNDE970L5ZdoXwHqCWwJzLugBUjJ67FTUs44b9amWcQbi3ygBp7vNSAIILwJgH1gIqf19xH8VK8oEWAbA02+/09Twf/xYplevJKhrRcrCMqMNfQ0rk37d5Qg+QsliGXmYuOMi2D97xcZ4gt4m4dEePy0CG/nnrvJ7IvHzq/rr6vVe1FrnyPWq7BDALEsPOw/eP53WYsL+BP8oy76fsWzkNT39Kjnhm3hYWYlSwEOdInBPueuEeYBQbYj0LlbT5rFlxV2BAQBhHb9/5lh608XNEIX3rj297nIVPCve1bWFQaR/ZiJ+QsTS4ghMKiLvUX2XWLsU2Z/p4KZjrJP2VurkAJlm+93QlffajsN7bc3VFd9i39LABapR0/JKN9ln1WtgkTjAvxx+ZtGTImMLGH2fSnT82p1LjAjDtu4nVAbuwoPIHssAcoRu2zU+rMLENfr/AxnBn468xMAIBCc6ta5kmFyQHjlCV8XmwEH8+HtgOm2WjHe3kbW3lf/MScAVDzafc4Pa/RrdbfgZMuLsX19CZB9VuWykhKj2BbcTgP7LqN7m3sBrDrv40/Pg4uGFtyCAMKbACaZCH+0C+SeMd7Iv3XUX5lp6lWzL07BGmNGRvh2BLLyBjD4eOkvE2Cm2Atd+KKk+Lmm5vG62tg+3JRoCGiwVbjd5/wYDAGQ9x/Xz5oAcAvv6j/BEACxf70xEzxWuwSYVm0S4MQFyPT5AYIAQjfeMUT/dfbnW/buLQMj9ryzmvllh1k6wmNPBFve9y4FzAjAIwcXBMSdCdytQDeZDwJqBDA/HQkAPYB+9h5AMARgJshiNQXNzluu3HlodRysHsQXxBAEEJ4EkJvYYWP0n10Y9apKjiIZur4k4MTut05grllZotuB2Dob23vfXl5PEvwFyWIHWFh0/1d6cLolAAxeNqklQcMaEjTirabyGPblmzlcon36+Ei7jwcQJgTAgoEPTjT31NhFv3LNW7p6AYIAwpcAmhgO6Ca/Bsd9aZ37b3JhMbUZyz4zAwlGt1f/nyr82aOKf/Yo7/v9ahl6J+i9Afz8SDXK3rOt5BMIdEMA6N7/8aYCbHz+9a1eY8RFVX0pXhGSaf29MCAAnWiKLAN+sFgGsNJhU2bMhos3M3ccQBBAaMZEs+g/m30/elHWtsbMLii2TXbgG1nXxsq4jsdZFo561YFag8x/VTXeXiXSjut9/vU4Ux/5Ti/S8YcA2PLluk10npKDhegonAhAEzQRwsagbvF4X8JmoiBMEMLinSIGEP4E8KJB+68ZikaoOi/JdxtORwC7lBZWMVHWBLD0IfK84x64/LdXP8/3xUtTAY37+isfk+GRyRK8OVfWilxcN3PN3XoAuz26luL2yUgm8Y0w8gA0EiC/abdWvks2dtGXKl0G9h49R0trCwIIbwL40iAA0i483BdnySlWtf2YIOfEjzLkzmm9x45r/60fqPr2fR5NnMK3/aZg265q8w8rrjkjGdPqN249gN0eXadhN8APZwJgqcL3jrEuHRYTE0u7/mBJ78yqBxAEEJqx2xgAZDNCL1x777Se/Y169roWkWV2IeP74nr+06Vq4JAlAG32egXX1UAVXqR27cPcEsDGN5TZDgGE76vZZufPCEcC0FSBhADQ07ITUX34+XdUFcgKhQgCCE8COG9M+2UzAnaeQZClbrYnAAqS/fYzihE46BFg/wCMHdAEoH1ewLlJCXZLALg0waUHzeLbb7CDzMuQTTMBw9UDYJ/5+XLZthIObZqZifMCBAGEZvjk/DMAPzqFEMAhfaVfy0AgiwNES7ZAMYp/MAEIM/I+Y15BijdabUcCbghAVisXof4dtx0xlRlthnqLj697RknEscoEDD8CUJODdislw8xmfxYInPfiS3DhRubdChQEEJpx00gC7CKce7dMZ0kl+89uCeDVtD8ySVYrqjrr7416AWxsseJRFZDJHttiG6EUArVqKNGa+sZMwHBdAjDCxizD6ChrReCTzy3UtgIFAWQnAlCBiXnyxkYfTn3tMYjXux2XAehxlwDEAwvFRzS5JsXjUxzEXwLQNAUWxjL6MBnHLKU3bAlATQwy37pVCODR/5tL+/lhSy9BANmQABbc6/UA3NTLY1Vt8HZUbxOQu8jK4wFAMxD3eiP4fO29UHkADGRFCklwwSSlN5wJANOt2ZLNLCnoiWfmw6WbwROAXcuwYIqPBEMAUSvHEgJIBM98QQCWMYCn75S1GIBf1W1Q7UfWmB8tlqFdE98Z2Sl1lwcB1Q/s0zcZTY9cANzCRA0CXQZkBwIgS4B/P/R2FjaLATy7YImWFRgK8ON2IoIWtQXYy491FQ6UBAIngKkQuXy0IAB1pFrtAtw9SnLlAZgVt6QX2T6lqs/G9TKM6StB/jzuvQKeJGgR0mR9YNAtAbAkJCtja+A76ksU/OGsBNR95h7rrEB24S99+bWg8wF0DTzP34Az18jccOg07Nh3nCoN+W1Gf0kgEAKIe2MqJYGIF4eDPD8DlwBfZ14COGIVBMQacqw+n5sLz1gNmElsmfgHS4TNu8erF3DKBGSP16oikWPwltDyhwBcFQTxqGXITAAcjgTAvtNb8+y/05vvf0674waqA+DBj5mFO1JO0NbbheOL0IzDZi1awUdf/ACnrwbWlMRvAnhtMp39Y1ZPUMBPTBYEIG30yQT0eOvkgYtef061/5nQhxYJ3a8A+Vsyq4/pI0GBvNZaAZ4EXn9O1jQJ/iwBihRU6glgEc+SRRUrpd6WKSZBl5YS/Pq6rBFddtgGpEpA4tk9c5dsWbsBL9bvN26Bk5cCrwzEz+gI1sZNW5h+zmcbfoH/AhAc+UUA73k9gIjFIxTgLxgqCICMdcZaAFpgrKBaKHO7VSqw74yfulnWKft4UmD9AW6yBCACrGM/yDBnnPczjQBjBICpxnxGoBsCwNciuPE4MfkFq+6iXeJuaWnwPda6g3AWAmFatu9nKt+zQMFCsHP/Ka15aKBLAFw+YO/BRUtXKVmhUVHaZ0RHR9PbDp276ToTpRcBxBHXPwr7ATDwCw+Ajge4ZCCfJiC4fmfFQOwaZtCcgBRVcbdXmen5lFsjGWhewQ5F9//ZMvM9aQaCsiUkuPyXrGvI4YYANr2nzO7oddA8A4Ox7MTsIAXWEoHUQCDrIOwxyQas16CxLkofTPtu1BKMnThV13GXB1jpMuUg+Yj/iUeuCeC+HhD3wV0QtXyM4voT8AsC8I7udqXAF95nrgXgAU2j/sS9f3ehTGvbjSQzyxqW+79DH8E3LhfwQqT17o54aF1/K5cUMxPRW6CKPT8IANVurLlGIG3Jwo0A2Bbgnv+ZbwGyegBDRoyhrcIQZG5Badzawxk95fgFCtJR4ybpNAY8wEqULEUDg0q84LLP+wRLAFGzu0LkK+NBnpuoB78gADpKE7tkLAiiSwjiXG8vYPSppdjcw3jiMd30mtquGi9g3/dQ7mOKMK5Jn5xunUsQFyvRICKT7LolgL/f8WYDBpQ4E2YEwCoCWSUCaVuA85f4pQLkAYvApFF/snzA7T7CIzBu0nTl+5l4ACVLlaGvw2Ag7gywpYOTTsAtAcjj24JM1v0ezvUXHoB+/MqlBOsKgmCQjpbL2sF3v/Ho5L8smuzhVHfsQsaSW/u/VrwIJrW9tslrqSoAsNVW5TK+cQB2HPEF9ZWJ3RIArQewQ2lHxn8ub2lbrFOD3RLAt68oM6vZ51i1OnNNAGozVjxOLA+uO39aSrV9k1Jt6aXuyvRJsN6BwVn621/+cb0uN4Ifdw4wqLd933HY8PPftMx4736DLD2A+CJF4X8bfoVvf90Ef23bB0fOpNIWZWwHwYoEXBPAhLbgWTqS7vuLJYD5eNosDsBmB1qW21AVmL94h/Uwn7nZxYz7/0/PlOHodwpIKBkcUrPxyPp8N3FHW9azal6p3LZtrN+nd0sA2A0HTnLZf2a227q/n1sCwNZk8J/F5yR74yQ8ybglAKybSOMqh9Vzx783/n+ntWSaD9jyTU7y5DSLtyizf9VqaqNQAkSnvXnjLH32GsD7n31LG4zkL1CQXvRoDEyW4i/1eXFxOaBOvQbwzPzFlAhoYVKLLULXBDCuDXhw3/+5wXQZoLOMag6ayQngDsMSQLcd2LaRvi6AcTbBjDurtTs/rAtVCgAAG81JREFUw+TLLUHXOySaNoxtth6bItPoflyMdYVaRiq4ZYUXOyMhV9mAspLx98IcmaYez7tbb5jshDGO399UtQrbPD4gcksAUxMlePF+GZ43fs49MmxQvQMWdDQGQy0JQL0tXIC45OT7z79HOWb2vvidljwoK63DkvUemlnpdub+42vNZn82O0+aNkvLAnQCv2aEMP67DHD3/Y8GpcjkrcUdbRTBEFeUhD8et+3B5ekdwbNmAniwHfiK0XrLqPbgmZwAooglccFA6843vBpPvaAWP+Bta2Wlt3dKCjKTBzOwIXEc2qCvCxhqKfCdw4JTAjoZtjqj6/jtHp0nYEcAbg3PO/4G/G6NVcdm/D5Y6cnunH34+feuBED8Hj/WDXj4iWd1M7okyQEKszwaWJo0b0nBf0T1RgLxAKTGFUHu3QCkbnVB7u41CQ0f61UfpFIFlefKUrYjAPaBj0tmzUFUYGLOPp8tx28p4UXVuqFkSwJsRjNm59kRA0spfmqGzBUmMY8BWAGT9SRkfQA14/6vyzswFEBx2xjE53O43oOM3GaP9D2HrDGIEwFEmL1/hH7ZZZRM+/QGJN/tjefsg381a9X1q0MwghNjBT/8vhWioqJ17xWsoWYAb5FY+LblOgIgS461b30YMq/DTBJdsUpV2Lz3TNgSgEe9rWrIC7hpnI3plpoh0s3WlRigYyTg8QTXq48nkg7NJDpr8jJgfzoDuTEGusa1JLoMCGQJ4JTlKKlNRDGYxwurQuUB4C22/MJj9RKMb+cmrSGIhfuPbcF4999pCUCFPuT5uGww7vMHDUCVSCpUrEw/x+gFUPIhy46vf/zTnnQQyB4Hk6yTopq2bANJR65S8IfrEoCRgLFDkM4L6N5aMnUz0zZ73XPW4opdzP665jx5NK2tKhGTrKsCY0WfYJcA/Hbb5b/NewOyJqTBEA1uZR7ntAy8J8O2USMDIAD2+/Ro4xurwe9wTV2qLX/EfO3PZrpCheNhy+7DdCvOjfyXB2PDxs1sZ3+Pg8kOS4JvfvpL25XgPx9JAUuWVaxUJaTeB79lOW32Q3DwPMDmfWfDngBaGURBN40gQSBQN9nQJTiNpQEnK7MlttoyBvPMegHyLcL5v+HOAhUIJenjDsaUVqw0bBdHcGNMgYiFTIw7Akw4s/szWVuS+Ps5bIZG5R2rrMRmaFagc/GDsnYssp/HzwQ9D02UdIFS3kM7+ZNMPRBTubU6+2MzkAvX3c3+PAD3HTsP5StU0pFJqO2Ndz+lmYR8XIJ5IJix+MSzC1QPJCokn8eqIuXOkxe+/WM37Dx2jYLZH/BnJQLAYdYmXPMC2AxbvqR3P944KzNZLc6YqLXHCDsLOLm1+tUl2iCERuW3G7v1yL6qNvK8SYNCwPaEgNhugHENTcmNEBvuKATzGZQ8tRiAd1mDxHnxD680NxArU1yCY9/rezjoOgL3sW8FlidvProH708ZcEoAZ9Ng79HzULZcBR8C8Ki3TfMVhLU1GsJL1erDSrTqeFsPXipREZYXrwBrSlSCGQWL2X6/de98TNf7xsAkIymUEbdt30kjNFrUJAAywuPngfr0wpWQcgZgS8o5Cuhw9QB4L6C5yZagrlswrlf5YJlR3MLX90fwYObf/eMl6NhcIRAsvoHucI5YJeEIxUIoA/5qpepF7FNeZ9WtR9eWTHXXH5kkQYl4CWKjlW1Ft4bHgEsN2t472dzb0OTOxJ6arnQvilVfj58Xw1msyWdgrcP3Fno7FBm36piXgUrHgZ2VXQ/2Prr3Nnw3fA6eS1yaoZbCqHhkrj9+tmW2pTr7z7z7AW32d6v/1xFAeV8CiFDvjy1ZHqD7MIDOgwC6DAboSqzTQIBadwBUbw5QuxV8X666AwF84kMAuloD565D8pGz0Ll77xAFIKPh8eeXwN7/gID4XEDr/6xGADwJrJb03YJ8lgI0PXe/t1qQFRFomX+qEhDdeqy8g+XAUWGIZbhoos5+JYmIusWbnZt28MVHKDj3Kl4Hvi82EkX1Ib21MvL3lK+UY6Bktcfc2zDe4udgnAC3JfH1e7+QqdiIWQr7bPX9EdR4/Pg6vuCoKQkkKaKk0794X8+/N36W8fjRtacZjbv04Kee2C6lZVvh/Fb9GjyqFLe0lvnHlH9+E0A5awIYWrwMAfwAuJzQG64l9IFr7fvCtXa94Uq1pnDx9saUBD4qfXtABMCTwNGzhAROpsH8Za9By7YdoGCheIiNi6NmtyUZoQqQ4nLkIERWCQYOGwuffPc3nfkZ+AOZ/bMiAbBlQCliZw26AF3XoBxxEi0pRav32pCAlvm3yevu0gzAJNW2e/fbzaPX7oqPpDGvY6efluR9vflSw+Rz1OQnt+/PAGkn0mEkQIlghx/Hr8qrefCzsmx4v0U9690FFjBbvGKNrvKPP8k/bghgePGyZPYfCKkE+NeJ3ejQD64TIkir3gyuViUEUKM5fFrGPwIwyxNIOnQRthDA7T9LuO94Kvy+4yj8uCkFPv9pKxQsHO97fKr303/IaPhz1wn4/u9kut+PwN9z4jpx+88GBf6sSAD8AUw00QXodgUqlZHobIUXYupm67W6kRxYyTCjstCpTZddLUK+5oC/5qYRSTCfc2Ork0xX9kmtdv3+W83rLqBHg5mZVjsL7OJv36kbVfD5M/PfagJQjlMP/j3HLmtuOgIXgbfj8GUKvs37zkB80WImBKAActSEGXDsClDA4l4/rvdx5mfADxT8WZUA+PE/q6UAu6ha1sf+gcpM5NTMQ1j6Gh/0W/WEbKOwVGb+fPnywx//JsPJi0DTcP3N/b+VBKB9Prndd+KKD0jx/wg+BPQfScehcJGilgQwfOxU6jVs2ntGB/hgwZ+VCYDFAkoQO2nIFPQhAdT3wzbFBRckcGsJAF1/jLNUKGUnsWZFP9dpCrtACn9khiXA/pNXdC46D1i8j17AX7tPQrESpXyPTwXk6Il3wqELQD2FYAEfTh4AO5Cu3MHesCIBjETTYF6S9XJAWPoajU8ke+huimQhrmH726PHT9YV/AikLPet9gAOnrpKZviLlut05gXsOXkd2nXqrpYhi6HHiPEP5gEsWrle3eo7G1Lwh8MSgB3MHEM8wLSKMMp2qZJuN7874BEkkEHG2n5j9qOZ4o8F/domdKICHmMwLZCSX7fSA0g6fNExSLeVrOcxoPfBVxshZ67cPu+b0KkHJB25orn7wgOw3hl41SQe4OMJ1K+mZu7t05cRE95ABhHAQQ9NG7YjgAGDh5mup7MSAew8cskR/OxxDOrtPXUTPvj6d2jfpSeUKFmGJvhMnnk/dft3IAGoKj9BANYEgONzNySAklNaIuuAO0GPsNAYCwDaCX9Ygs1d9zzoI/vNCksALA6y6+gl2Opie46f0beonkDyyRs0JoDuPrr92w9d1iS+oQZ/uBAAHxSMJfaTgQRMlwN0f/kBRfqKOwS+3oAAbKiNiqLIuT7xowwF80qOyUsvLH9Vyfw7fjGgzjwZTgCpADsPX/AJ9NkBkCeBrXR7T9keZNt9oYz4hzMB8CSQg9gvxhqCVsU9BnRSe+6p0mHhDaTvLkCaml34wHjJsk07AykuCbB817k0bwNQf0ggIwngdUIAxy4qGXluwW9GAvxaP1iRT3YjAP7g4oh9zZHATbMUW0YEpYtJ8PES1RtIErGBjNgKRCJoXtdaCMTiAdgA5LdNO6kYiN8ODKUUOBQEsOqND2Hf6cCTcm6VhRsBGElgp10ZMePFN7yHmrGmtgdLFUQQcvBrqdk7PbT2QNni9tV/8fa2qtVh96EztA6APz36MpIAlq/9QCOArAL+cCUAPjC4wW4pwFfEYWtRTExZdB8uBTzUVWXqNUEEoSUBWmcg2UOrFWNTFStREBPDYCotq8lvVoDzVhPAitc+0HkAggAyx/jRDQGYBQgx952myO5Q0n95IvCWsBJEEGj7Lz4d+JMlsn0DVlUQM3LsJBpoc7s9KAhAEMAP/hCAZFIhGNepHy1WM+xSlJx7b7ML32QhYYGRwIsP2JdOYzGBR596XqsJ6BQPEAQgCOAH+90Aj33tP+5ibFhDogU+aQPQ/d78drpzsDVrLxGMKcWsyhBLgU4zZPY59zD0L0uSVWmaOdw6NZgH7iuvv6tqBOx3BgQBCAJw9ADwgrCrE+cx1AnEFOOHJ6nNLvaoXoGaaUg9g63O6bWZbRb26Yi8TSlAonVS3qMQHquPwFcmZn0Q+VZg/hAH0wfQPI2dHtrr0WlnIDY2Dr78/ne1N4B1opAgAEEAPgTALoCGjZtC1x599BFnByLgg1RY8qonuVix6u+pn5WAFvUM1AIefM+9zEAI2szM1z3YogCWRuW3e9um47H/vl6Gt+fJtC36r6/LsOMTmXY/xrLh2EDkhirqwbwKShQH1XZq+9X/J6t/U4uCGIkjzUAc+J74N6yaxEqD2+0MlCpTFv7dc8S2QrAgAEEAPgTALqBe/QbRteSiZa9AcTUVUzI0h7SMERhmJ6wbmNhVgteeUUt4JaklxpI93mah6sxoFTsIFTGYufMM7Gmbvc1G6Sy/y3ucCOyvX5ZpYVHs9Wf8zlgNGKssxReQoEpZCRrVlKB9M6WjEJYMx3Zq2B7spUcJccxX3gv7NCR/oZRYu/SnrCVg0fPDvCfWg3G/+thBpUIw2x40bcemXqiDho70yRkIGQG0660SQBNBAOFEAB4V4F269wKyhKRR5aT9J2HGrPtozTW3RMBmKOMFigUzERiPTVUKedIKxTtUoKWooNvuXfsyt5l3mW9sDcwYyFO599VqEiaphHRQARrOuNs+lGktfiQvLCQqWfQjCNTw/GCxUCwMWrKIRCswYwkwbMs+pJsEUwYrpcKxnyA2eMVqyxtWyZDypUx3YFg5cSvLkSMn/LE12bJScMAE0LE/XG/VHVIJ+AUBhKkHgO4/NnJIOX6BFmvEoNIvf++AISPGai2f2POdaskzr8BstipaSIIOzSW4f5xE25Rv+UBxo1mhUM1t3qu6zGydzbnMfNchfhuSzqbb1OeyOn17OJdcXZIgEWAG5JcvKc07EfAYyzAvxWUPfFnVTHhUJSXfAoy1GQuWOPA9kEht27ipv8nKNW/Rvn8sFhAyAmjSEVJvbywIINwJAGcONNxWwtJTWHzy2182UfdSqdbqLVThpquLzPXJs9IaFI+XaJuykb0keHSyBK8+KcPny2X4+x2lSi96DbjbwHoN6kCuEgMazu44k6N7ffpXJTCJWY7YJxBTbqcNUQqhoEuP5cUlm56BwYLWzfaqbEIaGnH43aFJ+S3mLlqu2xYMmgCI+3+D3KbVaik8gOxCAHzp5gPkQsJ+bpiA8vNf22HClDshXq3X5o9XIDl0FrJymRGoBfNJUK6EBDWrSNCktlLXsG1jpaBJQlOFPPAx3JpEcKN7nTeXt4OQk9gpIwCf3sbO/yvr3g2dB5DQB653IrN/U2X2T6vWVBBAdiEAXlmGOd14QZF/tCbdtuRj8H9zX4A69Rv6XIT+kIGRFNgs6JFDP9uyLscRAbjk7HuxWZaWqCL/xwsEpbnK35S/YwHP9Gq35QT+3HnywD9JByx3AtwTQBnaCCRVXfsj8HH2FwSQzTwAHyJQlwbYkAJjBNje6eMvf6T16kqVLmO6RRWK5o+ypF9nW5rsda2D/ky1Bl2owOyta6cSR0Skdn4U4pAD/qyo6Gi1buAUdfYPwS5A18GQ2rIbpFZvpoFfLAGyGQGYdXThiQDvn76qxAkwO23tmx/CkBFjoHSZshazaKR2sWc2F5oVnTQjLEzB7dazD8x9YQWsfesjeHH5q7S55az7HoaxE6dB/8HDoEPnbtC4aQu4vVoNKF6iJOTOnQdiYmO15J3giSNSJY4IrZcevjc73hq16sCug6e1bkEB6QDUbjzDipYGaNqZgp0Hf/byAH4XBGDXYpqRAs42GCdAbwBnH7S9R87B+59tgBmz5kCTZi0hl0lxR40UIr0zYfoTg6wCSg8esxkVATVm4lRYufYt+HfPUTh9BWhwDffZcRl06SYAeYg+hgq8ExeAFu5EYkw+fBZ2pJyAP7buga9/+gve+egrGp1HAnno8Wdg+qz7YMSYiVR70SahI9Rv2BgqVb4NCscXgRw5c0I0+Xx/zkXHLj3osgy3cQ/apAc7E4Da6TlfYYBqyp5/Kgd+QQCCACy9AoUMLlFCwIsMQXGRgANnpH927IeXX3sbpt91H7Ru14EGEZ2WBtrMx62z2czH3Ga9qbMiNe9s6QZIefLmhYaNm8HYCVNh0dJV8NOf2+j3QaCjd8NmVQQ3fj+8Rd19yvGL2mNs1kUSQDLE1+B+PJ5TPBdIjEgWl0ExfN//CIPgeh0/K+XYBdhDvKite47Qz//065/h9Xc/pb0Anpm3GO576AmYPH0WDBk+hngjfaFL9940IPv2R1/SzzDWBgiaAAjImQfAm1gCCAJwSQaXtWXC8fM36S4Czpp4oaKr+vWPf8KLK1ZTL6FX34FQt15DKFQ4HqJjYtJl9kdSwJbat1etDgkdu8C4SdPhuYXL4MPPv6MSWgQuxjUQpLj9SZtYUKDjd7iiK8Rp/K5WxrZUD6hBVPp+xxXiQK+JP9eMOPD84OcjOZy5phDFRZU4yM9DhVr4O6Hh4/gc9jlO4HdLAEPyEgIga39sBHq5KloTzZTmoM0cm4MKAshGBOC0TGDbiYwQUGh0St1RwIsaL/ZD5Dm7CTFs3LwLPvjft7Di1Tfg6Xkvwj0PPAbjJ8+gsYXexGXuRNzddh06Q+u2HaBl63bQqk0CLY7RvlNXOiv2GziEutfTZt4Ljzz5HCWZN977DL75+W/Yvu84PYbjZGZG8FwkhHRanYV5wJvthITinLghDj1pXNaOSfE2LmreBu+R2B2n8XOPnEmDfcfOQ7ny1gQwNn8R2gIcarQAqNlSb/hY7dbwg0N7cEEA2ZgAnAiBDyTiRc1mLyQGXMciKNFjQIDizIe36ELj4zg7IoCPnbsBR4mbja42Api52ywoyWZMJBmcJfFv+FycafHzGbAYoEIN+FCeOzvisAa++XlHL2PPkXNQxsQDYJ2JqsfkgPsLl4TZBYvD3YVK6GwWeQz/1i9PQfuSYGEQA4gQBJC+F7bZRa3NfrqZjwFVD1a9XdG/Fl9nWKO7BU9WN6vvh7f7TlylLbXLVajsQwCSRXuyQOzlNz6Bvf8JAhAEEGKC8MfCFeD+Ah8t5eQV2HEIL/ALtLNOk+atLYvAIAlESrKtRdiAPzIyCj77YRPsPp6mNfEQBCAIQFgGAx9bcR84dRV2qW250LbsOwsHzwPMuOcRXSpxqLQUeFutZl3ayCMrlQMX24CCAMIK+AfJ/T3HLvuAEC/wnUevwg//7IX8BQq6TvV2o7Fg7/PMopdhv9q9VxCAIABhGejq4/29xy/TNtxbD5i35cJ1ecppgIUrXtcVFfFLkqw+jyk82Wt69E2krj8278xq4BcEIAggSwDfrDkoDfAdV9b5/x6w7sfHkwBG6RcsXwe58+QNyRJg8Ijx9L2xgee/6djAUxCAIIBsB3wjATBX3y3wjY/ReAB6AsRV3/DHLpgw/R6oVa8hFC5SDAoULEzzGOzW+rh8KFgoHipUvg169hsCq9/5HPb+d5Ou/bdmUfALHYAggEw92xuBj66+FfCd2nCz+7hO33XsGhw4B/T/G3ccpbsEA4eO8YkPMDe/aPGS8NPm/bRt96bk09ST2Pcf0G6+6d29V+wCCALIdrM9/3scPHUVko+ZAz/QDrx40bMuvvjY4YsAQ0dP1nUh4gmgeMnSsGnvGdhJiIMtJ7aEAfgFAQgCuHWgt1nfox04eQV2H70E2w8GB3y7JQHa5n1naAQ/ceQESw+gWIlS8NeuE5q7Hw7AFwQgCCDjXfzTV50DeyeuwM7Dl2DbAd+ofqjX2QoBnIVDFwBGjJ/moxNgBIAy4n+S/1OCfVkc8IIABAFkCnUjW9vTpCQy2+85qmzlsVk1PYHPGwsMLn7lba1svIemVXsgOlrJ1MSgH5P5CgIQBCDMEvDuQY+KPQzqJR1WVHtbb4E7zZPNzqPXoHvfwb5l3YuVgK9+3Q67jqdmOZmvIABBALd8lvcFPXHxj1zyAaAemBlHAOx2x2FFRTjnseegfqNmUK1mHRg0bBx8szEJ9py8TiP+WXWrTxCAIIAMSdU1y83ff1KJ4tN1vQ3oMxL4ViSAt/vPAiWDrerSYNexVB34BQEIAsj2M7sZ2Nksf1AN5O0+qmzdOYP+1gKKPy6WPKT8/xJd8/Min3ADvyCAbE4A/qQgm4FdqWegAB4TcZK4WX5rJga9m+1BIzGEI/gFARgagwjzJUId2KlLf4UG73CPPunwRVeAD8e1syAAQQCZ2BC07ryaIxzIjUBnMzvm1ycZ1vBOgN92UABeEEBmJoCe4b8E8Ck/htWLTyngTjmhADyZzOYM5BioY+t2s5ndH829MEEAmZIAPCoBdOzWG1L+uwFJ5ILHCx+3psLCDiuWpBoCGm37IfPg11YLkDuBWYBdEEDWJACPQgAduvSCXcfTYAs5AVYACGcLJEAmLHwJ4IPs5gF06NoL9pxI0yV3ZFcTABcEkB08gJu8B9C+S0+tiqsAgLDsSvx4/e85cR3e/2qjLhXahADGZkUC+MKXAJRKro2ataKKr0DdYmHCwoEAUOy099RNWP3252bVkHgCGJKVCMCj3q5WDz7NmOJZqHAR2Lj9iI4ExEUhLDuBn6VDY9n0+x+fq4uRcQRwU72fYMBWph6R6u396sGncl9EI4EFK9ZR7TdfHUZcHMKyC/iVJcA5shROhcbNWxkbp/Dgv0ystIopOSt5AO0MX0a3DKhZpwGtB8eCIeEu+xQmjL++sWUa1kbExqaSWvrcwv3/K6sA3zhyEtuvfokbvBfASGDc1Nm0IgwSAEsEyS46cGHZa7b32nkKfixy8tOmFChRsrSxbyKbLFPV/z+VFQOA7GCf5ZYBwJMAs8l33U9zvvGEsCoxm/eeESYsvIxMcDjRodeLkx4WOqlStYaV63+Ti5/VyErrf8mwVilL7KLBC/AhgSYt2sBr739NGRLLPmOl2COXhAkLH8NgH+75//rvQbjv0ecgb778VoE/fsJ8PSuC3+gFPGriBfgsB9Bur14L+iWOggnT7oFJd84hdp9qc4QJy4J2n2ajJt4JCZ16QIFChcHs2ucwcUO9vUKsclYmAJ4I/nBLAsKEhbuxvogm4L/JbZtPz4prf6sdgQrETtmRgBII8dCMQZRFChMWVhYRSd19E+Dz4GfYWJ2Vtv3cLgXqETutfsFrhi9+U8wMwrKRGYN917ltv3dMYmlZfjBx0G3E/jW4OzcFGQjLRsDnr/Mb3KyPtsjEew6bwTyBOPWL8icmTbUbJoQgLhxhWX2m5+9fV0F/g3teCrF+4TjzW5EAjvrqNsd5B7YUJixcZn6j7SF2D7E83KwftuDn2Y0nglKSku+8ltgWYmc4dhQkICxcPACMex0m9j2x54l1JBZrMTlmivH/xtwIhjQb6t8AAAAASUVORK5CYII=)"
      ],
      "metadata": {
        "id": "uvxkRyBhASfX"
      }
    },
    {
      "cell_type": "code",
      "source": [
        "# Here is an example of the list of dictionaries\n",
        "stocks = [\n",
        "    {'name': 'Apple Inc.', 'ticker': 'AAPL', 'price': 120.0, 'change': 0.05},\n",
        "    {'name': 'Microsoft Corporation', 'ticker': 'MSFT', 'price': 95.0, 'change': -0.02},\n",
        "    {'name': 'Amazon.com, Inc.', 'ticker': 'AMZN', 'price': 250.0, 'change': 0.1},\n",
        "    {'name': 'Alphabet Inc.', 'ticker': 'GOOGL', 'price': 110.0, 'change': 0.02},\n",
        "    {'name': 'Facebook, Inc.', 'ticker': 'FB', 'price': 80.0, 'change': 0.03}\n",
        "]\n",
        "\n",
        "# Write your code here\n",
        "\n",
        "#Createa a list of dictionaries where there is only the name and price.\n",
        "new_stocks= [{'name':stock['name'], 'price':stock['price']} for stock in stocks]\n",
        "new_stocks\n"
      ],
      "metadata": {
        "id": "pT6d0-9M8JJ8",
        "colab": {
          "base_uri": "https://localhost:8080/"
        },
        "outputId": "5b583a5e-20c8-4c68-c0ed-b7b3c239564d"
      },
      "execution_count": null,
      "outputs": [
        {
          "output_type": "execute_result",
          "data": {
            "text/plain": [
              "[{'name': 'Apple Inc.', 'price': 120.0},\n",
              " {'name': 'Microsoft Corporation', 'price': 95.0},\n",
              " {'name': 'Amazon.com, Inc.', 'price': 250.0},\n",
              " {'name': 'Alphabet Inc.', 'price': 110.0},\n",
              " {'name': 'Facebook, Inc.', 'price': 80.0}]"
            ]
          },
          "metadata": {},
          "execution_count": 6
        }
      ]
    },
    {
      "cell_type": "code",
      "source": [],
      "metadata": {
        "id": "0TRx0YgyqrnR"
      },
      "execution_count": null,
      "outputs": []
    },
    {
      "cell_type": "code",
      "source": [
        "stocks = [\n",
        "    {'name': 'Apple Inc.', 'ticker': 'AAPL', 'price': 120.0, 'change': 0.05},\n",
        "    {'name': 'Microsoft Corporation', 'ticker': 'MSFT', 'price': 95.0, 'change': -0.02},\n",
        "    {'name': 'Amazon.com, Inc.', 'ticker': 'AMZN', 'price': 250.0, 'change': 0.1},\n",
        "    {'name': 'Alphabet Inc.', 'ticker': 'GOOGL', 'price': 110.0, 'change': 0.02},\n",
        "    {'name': 'Facebook, Inc.', 'ticker': 'FB', 'price': 80.0, 'change': 0.03}\n",
        "]\n",
        "\n",
        "new_list1=[{'name':stock['name'], 'price':stock['price'], 'change':stock['change']} for stock in stocks if stock['change']>0 and stock['price']>100]\n",
        "new_list=[{'name':value['name'], 'price':value['price']} for value in new_list1]\n",
        "print(new_list)\n"
      ],
      "metadata": {
        "colab": {
          "base_uri": "https://localhost:8080/"
        },
        "id": "1uBEkCtWpw7K",
        "outputId": "afa730e7-6d1a-43ea-c83a-417f92da1aff"
      },
      "execution_count": null,
      "outputs": [
        {
          "output_type": "stream",
          "name": "stdout",
          "text": [
            "[{'name': 'Apple Inc.', 'price': 120.0}, {'name': 'Amazon.com, Inc.', 'price': 250.0}, {'name': 'Alphabet Inc.', 'price': 110.0}]\n"
          ]
        }
      ]
    },
    {
      "cell_type": "markdown",
      "source": [
        "**Instructions:**\n",
        "\n",
        "1. Use list comprehension to filter the stocks where the price is greater than 100 and the percentage change is positive.\n",
        "\n",
        "2. Use list comprehension to create a new list of dictionaries where each dictionary contains only the name and price of the stock."
      ],
      "metadata": {
        "id": "vaB7yY3q8ctY"
      }
    },
    {
      "cell_type": "markdown",
      "source": [
        "## **Activity - 5**"
      ],
      "metadata": {
        "id": "lBippkObf8cT"
      }
    },
    {
      "cell_type": "markdown",
      "source": [
        "### **Duplicate Songs**\n",
        "\n",
        "🎵🎶 You have a list of songs that you like to listen to, but you notice that some of the songs have duplicate names. You want to create a new set that contains the unique names of all the songs and keep the songs whose name doesn't start with \"S\" and doesn't end with \"n\" in your list using set comprehension.\n",
        "\n",
        "Can you write the code to create a new set that contains the unique names of all the songs in your list using set comprehension only?\n",
        "\n",
        "👉 Hint: Set comprehension is similar to list comprehension, but with curly braces {} instead of square brackets []."
      ],
      "metadata": {
        "id": "Gm_824J28kwx"
      }
    },
    {
      "cell_type": "code",
      "source": [
        "# Here's an example list of songs\n",
        "songs = ['Bohemian Rhapsody', 'Stairway to Heaven', 'Bohemian Rhapsody', 'Hotel California', 'November Rain', 'Stairway to Heaven', 'Sweet Child O\\' Mine']\n",
        "\n",
        "# Write your code here\n",
        "new_song_list={song for song in songs if song[0]!='S' and song[-1]!='n'}\n",
        "print(new_song_list)\n"
      ],
      "metadata": {
        "id": "1RR_E-kM8hRt",
        "outputId": "5b61457b-b80d-4182-f659-cb752cc889c9",
        "colab": {
          "base_uri": "https://localhost:8080/"
        }
      },
      "execution_count": null,
      "outputs": [
        {
          "output_type": "stream",
          "name": "stdout",
          "text": [
            "{'Hotel California', 'Bohemian Rhapsody'}\n"
          ]
        }
      ]
    },
    {
      "cell_type": "markdown",
      "source": [
        "**Instructions:**\n",
        "\n",
        "1. Create a list of songs that contains duplicate names.\n",
        "\n",
        "2. Use set comprehension to iterate over the list of songs and create a new set that contains only the unique names of the songs.\n",
        "\n",
        "3. Include a condition in the set comprehension to filter out songs whose name starts with \"S\" and ends with \"n\"."
      ],
      "metadata": {
        "id": "Jqpuv0Kh8t1x"
      }
    }
  ]
}