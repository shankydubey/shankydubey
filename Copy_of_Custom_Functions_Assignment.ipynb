{
  "nbformat": 4,
  "nbformat_minor": 0,
  "metadata": {
    "colab": {
      "provenance": [],
      "include_colab_link": true
    },
    "kernelspec": {
      "name": "python3",
      "display_name": "Python 3"
    },
    "language_info": {
      "name": "python"
    }
  },
  "cells": [
    {
      "cell_type": "markdown",
      "metadata": {
        "id": "view-in-github",
        "colab_type": "text"
      },
      "source": [
        "<a href=\"https://colab.research.google.com/github/shankydubey/shankydubey/blob/main/Copy_of_Custom_Functions_Assignment.ipynb\" target=\"_parent\"><img src=\"https://colab.research.google.com/assets/colab-badge.svg\" alt=\"Open In Colab\"/></a>"
      ]
    },
    {
      "cell_type": "markdown",
      "source": [
        "## 🎉 Welcome to today's assignment!\n",
        "\n",
        "Get ready to flex your coding muscles! Today's topic is custom functions in Python, and you'll have the opportunity to practice and apply what you've learned in the last lesson.\n",
        "\n",
        "💪📚 Let's see how far you've come in your Python journey! Get ready to write some custom functions and put your skills to the test.\n",
        "\n",
        "Good luck! 🍀🚀"
      ],
      "metadata": {
        "id": "oBDbvORc2ItD"
      }
    },
    {
      "cell_type": "markdown",
      "source": [
        "## **Activity 1:**"
      ],
      "metadata": {
        "id": "WvYidPE86eF2"
      }
    },
    {
      "cell_type": "markdown",
      "source": [
        "### **Building a Calculator**\n",
        "\n",
        "\n",
        "In this activity, we will create a custom function in Python to build a calculator that can perform basic arithmetic operations such as addition, subtraction, multiplication, and division."
      ],
      "metadata": {
        "id": "5oJRi3Mv1MuD"
      }
    },
    {
      "cell_type": "markdown",
      "source": [
        "**💻 Code:**"
      ],
      "metadata": {
        "id": "etkfY4lA8iRg"
      }
    },
    {
      "cell_type": "code",
      "execution_count": null,
      "metadata": {
        "id": "L5nnlASM1JfV"
      },
      "outputs": [],
      "source": [
        "# Define a function called calculator that takes three arguments: num1, num2, and operation\n",
        "def calculate(num1,num2):\n",
        "  if operation==\"+\":\n",
        "    result=num1+num2\n",
        "  elif operation==\"-\":\n",
        "    result=num1-num2\n",
        "  elif operation==\"*\":\n",
        "    result=num1*num2\n",
        "  elif operation==\"/\":\n",
        "    if num2==0:\n",
        "      result=\"INFINITY\"\n",
        "    else:\n",
        "      result=num1/num2\n",
        "  else:\n",
        "    result=\"wrong operation\"\n",
        "  return result"
      ]
    },
    {
      "cell_type": "markdown",
      "source": [
        "**🧪 Test Code:**"
      ],
      "metadata": {
        "id": "OXMHdeOH9EuG"
      }
    },
    {
      "cell_type": "code",
      "source": [
        "# Test the calculator function\n",
        "\n",
        "num1,num2,operation=int(input()),int(input()),input()\n",
        "calculate(num1,num2)"
      ],
      "metadata": {
        "id": "woikfzcB1j-S",
        "outputId": "cc7801c4-d9b2-44fa-bfb1-bb7a970f7126",
        "colab": {
          "base_uri": "https://localhost:8080/"
        }
      },
      "execution_count": null,
      "outputs": [
        {
          "name": "stdout",
          "output_type": "stream",
          "text": [
            "5\n",
            "6\n",
            "*\n"
          ]
        },
        {
          "output_type": "execute_result",
          "data": {
            "text/plain": [
              "30"
            ]
          },
          "metadata": {},
          "execution_count": 19
        }
      ]
    },
    {
      "cell_type": "markdown",
      "source": [
        "0**Instructions:**\n",
        "\n",
        "1. Define a function called calculator that takes three arguments: num1, num2, and operation.\n",
        "2. In the function, use an if-else statement to determine the arithmetic operation to perform based on the value of operation.\n",
        "3. If operation is '+', return the sum of num1 and num2.\n",
        "4. If operation is '-', return the difference between num1 and num2.\n",
        "5. If operation is '*', return the product of num1 and num2.\n",
        "6. If operation is '/', return the quotient of num1 and num2.\n",
        "7. If operation is not one of the four valid arithmetic operations, return the string \"Invalid operation\".\n",
        "7. Test your function by calling it with different values for num1, num2, and operation."
      ],
      "metadata": {
        "id": "K8ncM2pa1Ttz"
      }
    },
    {
      "cell_type": "markdown",
      "source": [
        "## **Activity 2:**"
      ],
      "metadata": {
        "id": "iSX97-aS6s7W"
      }
    },
    {
      "cell_type": "markdown",
      "source": [
        "### **Dice Rolling** 🎲\n",
        "\n",
        "Roll a dice and display the result. 🎲"
      ],
      "metadata": {
        "id": "bFFQSaSN3ymq"
      }
    },
    {
      "cell_type": "markdown",
      "source": [
        "**What is the random module?**\n",
        "\n",
        "The random module is a built-in Python module that provides a suite of functions for generating random numbers and sequences. This module is often used in applications where randomization is important, such as games, simulations, and cryptography.\n",
        "\n",
        "You do not need to worry much about this as you will be learning about these modules and functions in the upcoming classes."
      ],
      "metadata": {
        "id": "dld5FXtd7AnL"
      }
    },
    {
      "cell_type": "markdown",
      "source": [
        "💻 Code:"
      ],
      "metadata": {
        "id": "sVfbV5jm8fyZ"
      }
    },
    {
      "cell_type": "code",
      "source": [
        "# Define a function for roll a dice\n",
        "import random\n",
        "\n",
        "def roll_dice():\n",
        "  num = random.randint(1,6)\n",
        "\n",
        "  return num"
      ],
      "metadata": {
        "id": "_e0xs5B63wYi"
      },
      "execution_count": null,
      "outputs": []
    },
    {
      "cell_type": "markdown",
      "source": [
        "**🧪 Test Code:**"
      ],
      "metadata": {
        "id": "70zB8HPn9DXA"
      }
    },
    {
      "cell_type": "code",
      "source": [
        "# Roll the dice and print the result\n",
        "num = roll_dice()\n",
        "print(\"The rolled number is \", str(num))"
      ],
      "metadata": {
        "id": "zbG-zj0g5VEZ",
        "colab": {
          "base_uri": "https://localhost:8080/"
        },
        "outputId": "70fb1550-cc31-43e9-96d2-4239df2a7612"
      },
      "execution_count": null,
      "outputs": [
        {
          "output_type": "stream",
          "name": "stdout",
          "text": [
            "The rolled number is  5\n"
          ]
        }
      ]
    },
    {
      "cell_type": "markdown",
      "source": [
        "**Instructions:**\n",
        "\n",
        "1. The random module shoud be imported to generate a random number for the dice roll.\n",
        "2. roll_dice() is defined as a custom function that generates a random number between 1 and 6.\n",
        "3. The function returns the result of the dice roll.\n",
        "4. The result variable is assigned to the return value of the roll_dice() function.\n",
        "5. The result is printed using a formatted string."
      ],
      "metadata": {
        "id": "opLb4qu54RU7"
      }
    },
    {
      "cell_type": "markdown",
      "source": [
        "## **Activity 3:**"
      ],
      "metadata": {
        "id": "zbXfyOni7JD1"
      }
    },
    {
      "cell_type": "markdown",
      "source": [
        "### **Celsius to Fahrenheit Converter**\n",
        "\n",
        "Create a custom function that takes in a temperature in Celsius and returns the temperature in Fahrenheit.\n",
        "\n",
        "**For example**: If the input temperature is 20 degrees Celsius, the output temperature should be 68 degrees Fahrenheit.\n"
      ],
      "metadata": {
        "id": "XB3M38js4r8r"
      }
    },
    {
      "cell_type": "markdown",
      "source": [
        "💻 Code:"
      ],
      "metadata": {
        "id": "LVMw5sDQ8elX"
      }
    },
    {
      "cell_type": "code",
      "source": [
        "# Define a function to convert celsius to fahrenheit\n",
        "def convert(temp):\n",
        "  result=print(f\"{temp*9/5+32} degrees Fahrenheit\")\n",
        "  return result"
      ],
      "metadata": {
        "id": "AG3AA-1n4p5r"
      },
      "execution_count": null,
      "outputs": []
    },
    {
      "cell_type": "markdown",
      "source": [
        "**🧪 Test Code:**"
      ],
      "metadata": {
        "id": "KDtKd97y9CSH"
      }
    },
    {
      "cell_type": "code",
      "source": [
        "# Example usage\n",
        "temp=int(input(\"Enter Temprature in celsius: \"))\n",
        "convert(temp)"
      ],
      "metadata": {
        "id": "T_sVClYZ5LT6",
        "outputId": "1f27ee7b-7bfd-4c4d-ca17-536deba8dd29",
        "colab": {
          "base_uri": "https://localhost:8080/"
        }
      },
      "execution_count": null,
      "outputs": [
        {
          "output_type": "stream",
          "name": "stdout",
          "text": [
            "Enter Temprature in celsius: 45\n",
            "113.0 degrees Fahrenheit\n"
          ]
        }
      ]
    },
    {
      "cell_type": "markdown",
      "source": [
        "Output:\n",
        "\n",
        "If the input temperature is 20 degrees Celsius, the output temperature should be 68 degrees Fahrenheit."
      ],
      "metadata": {
        "id": "grA9fcVA5EDC"
      }
    },
    {
      "cell_type": "markdown",
      "source": [
        "**Instructions:**\n",
        "\n",
        "To create this function, you can use the formula to convert the temperature in Celsius to Fahrenheit. The formula for converting Celsius to Fahrenheit is F = (C * 9/5) + 32, where F is the temperature in Fahrenheit and C is the temperature in Celsius."
      ],
      "metadata": {
        "id": "Iz8PDswd5Of5"
      }
    },
    {
      "cell_type": "markdown",
      "source": [
        "## **Activity 4:**"
      ],
      "metadata": {
        "id": "IHcWOlKm7V8A"
      }
    },
    {
      "cell_type": "markdown",
      "source": [
        "### **Sum odd Numbers** ➖\n",
        "\n",
        "In this activity, you will create a custom function in Python that takes a list of integers as an argument and returns the sum of all odd numbers in the list."
      ],
      "metadata": {
        "id": "f38kTkX-6DR4"
      }
    },
    {
      "cell_type": "markdown",
      "source": [
        "💻 Code:"
      ],
      "metadata": {
        "id": "_M8e-8p36M1J"
      }
    },
    {
      "cell_type": "code",
      "source": [
        "# define sum_odd custom function\n",
        "def sum_odd_numbers():\n",
        "  sum=0\n",
        "  for i in nums:\n",
        "    if i%2!=0:\n",
        "      sum=sum+int(i)\n",
        "  return sum\n"
      ],
      "metadata": {
        "id": "BfJMZFk75GP3"
      },
      "execution_count": null,
      "outputs": []
    },
    {
      "cell_type": "markdown",
      "source": [
        "**🧪 Test Code:**"
      ],
      "metadata": {
        "id": "6UGSjTv75-Qw"
      }
    },
    {
      "cell_type": "code",
      "source": [
        "# test here\n",
        "nums=[1,2,3,4,5,6]\n",
        "sum_odd_numbers()"
      ],
      "metadata": {
        "id": "7yyxAwOY5_fS",
        "outputId": "0306572d-40d6-43af-b3e6-8fd6b323d003",
        "colab": {
          "base_uri": "https://localhost:8080/"
        }
      },
      "execution_count": null,
      "outputs": [
        {
          "output_type": "execute_result",
          "data": {
            "text/plain": [
              "9"
            ]
          },
          "metadata": {},
          "execution_count": 103
        }
      ]
    },
    {
      "cell_type": "markdown",
      "source": [
        "🤖 Output should be in format:\n",
        "\n",
        "If the input is [1, 2, 3, 4, 5, 6], then the output should be 9"
      ],
      "metadata": {
        "id": "Pc5U7agP6_uJ"
      }
    },
    {
      "cell_type": "markdown",
      "source": [
        "**Instructions:**\n",
        "\n",
        "To create the sum_odd function, follow these steps:\n",
        "\n",
        "1. Define a function named sum_odd that takes one argument, lst.\n",
        "2. Inside the function, create a variable named result and set its value to 0.\n",
        "3. Use a for loop to iterate through each element in lst.\n",
        "4. For each element, check if it is odd by using the modulus operator (%). If the result not is 0, add the element to result.\n",
        "5. After the loop, return result."
      ],
      "metadata": {
        "id": "NJFkJnem6Yyq"
      }
    }
  ]
}