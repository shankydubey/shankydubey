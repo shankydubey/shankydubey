{
  "nbformat": 4,
  "nbformat_minor": 0,
  "metadata": {
    "colab": {
      "provenance": [],
      "include_colab_link": true
    },
    "kernelspec": {
      "name": "python3",
      "display_name": "Python 3"
    },
    "language_info": {
      "name": "python"
    }
  },
  "cells": [
    {
      "cell_type": "markdown",
      "metadata": {
        "id": "view-in-github",
        "colab_type": "text"
      },
      "source": [
        "<a href=\"https://colab.research.google.com/github/shankydubey/shankydubey/blob/main/Copy_of_Exception_Handling_Assignment.ipynb\" target=\"_parent\"><img src=\"https://colab.research.google.com/assets/colab-badge.svg\" alt=\"Open In Colab\"/></a>"
      ]
    },
    {
      "cell_type": "markdown",
      "source": [
        "## 🎉 Welcome to today's assignment!\n",
        "\n",
        "Get ready to flex your coding muscles! Today's topic is Exception Handling and Logging in Python, and you'll have the opportunity to practice and apply what you've learned in the last lesson.\n",
        "\n",
        "💪📚 Let's see how far you've come in your Python journey! Get ready to write some try-except blocks and put your skills to the test.\n",
        "\n",
        "Good luck! 🍀🚀"
      ],
      "metadata": {
        "id": "di7wy0byHVIm"
      }
    },
    {
      "cell_type": "markdown",
      "source": [
        "## **Activity 1:**"
      ],
      "metadata": {
        "id": "HifPR500Hdzl"
      }
    },
    {
      "cell_type": "markdown",
      "source": [
        "### **Sum of first n Natural Numbers**\n",
        "\n",
        "💻 Suppose you are working on a project that requires you to write a Python program that calculates the sum of the first n natural numbers. You wrote a program to solve the problem, but the code contains several errors that prevent it from executing properly. ❌\n",
        "\n",
        "Your task is to identify and rectify the errors in the code and write the correct program. 🛠️"
      ],
      "metadata": {
        "id": "7X3Rz0V8HgfP"
      }
    },
    {
      "cell_type": "markdown",
      "source": [
        "![Sum-of-natural-numbers.png](data:image/png;base64,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)"
      ],
      "metadata": {
        "id": "OoDyvIuONaE4"
      }
    },
    {
      "cell_type": "code",
      "execution_count": null,
      "metadata": {
        "id": "VWJZF0ssHJMS",
        "outputId": "26a0dea9-92f2-4c9e-d295-18d3957f47f4",
        "colab": {
          "base_uri": "https://localhost:8080/",
          "height": 130
        }
      },
      "outputs": [
        {
          "output_type": "error",
          "ename": "SyntaxError",
          "evalue": "ignored",
          "traceback": [
            "\u001b[0;36m  File \u001b[0;32m\"<ipython-input-4-4ad8d96c4ab9>\"\u001b[0;36m, line \u001b[0;32m8\u001b[0m\n\u001b[0;31m    print(\"The sum of the first\", n, \"natural numbers is\", sum)\u001b[0m\n\u001b[0m    ^\u001b[0m\n\u001b[0;31mSyntaxError\u001b[0m\u001b[0;31m:\u001b[0m expected 'except' or 'finally' block\n"
          ]
        }
      ],
      "source": [
        "# Code with errors\n",
        "n = input(\"Enter a number: \")\n",
        "sum = 0\n",
        "for i in range(0, n+1):\n",
        "  sum = sum + i\n",
        "print(\"The sum of the first\", n, \"natural numbers is\", sum"
      ]
    },
    {
      "cell_type": "code",
      "source": [
        "# Write your code here\n",
        "try:\n",
        "  n = int(input(\"Enter a number: \"))\n",
        "  sum = 0\n",
        "  for i in range(0, n+1):\n",
        "    sum = sum + i\n",
        "  print(\"The sum of the first\", n, \"natural numbers is\", sum)\n",
        "\n",
        "except SyntaxError as e:\n",
        "  print(\"SyntaxError :\", e)\n",
        "except TypeError as e:\n",
        "  print(\"TypeError :\", e)\n",
        "\n",
        "\n",
        "\n",
        "\n",
        "\n"
      ],
      "metadata": {
        "id": "Gx1ZJKgWLDCf",
        "outputId": "0fe381c5-2a0b-4548-8749-e42ddf75cf75",
        "colab": {
          "base_uri": "https://localhost:8080/"
        }
      },
      "execution_count": null,
      "outputs": [
        {
          "output_type": "stream",
          "name": "stdout",
          "text": [
            "Enter a number: 5\n",
            "The sum of the first 5 natural numbers is 15\n"
          ]
        }
      ]
    },
    {
      "cell_type": "markdown",
      "source": [
        "👉 **Instructions:**\n",
        "\n",
        "1. The input function returns a string, so we need to convert it to an integer using the int() function. 🔢\n",
        "2. In the range() function, we need to provide an integer value for the upper limit. So, we need to convert the input to an integer as well. 🔝\n",
        "3. We need to add 1 to the upper limit in the range() function to include the last number. ➕"
      ],
      "metadata": {
        "id": "MQ1LuqbFIMGp"
      }
    },
    {
      "cell_type": "markdown",
      "source": [
        "## **Activity 2:**"
      ],
      "metadata": {
        "id": "vP-scYKGIzXs"
      }
    },
    {
      "cell_type": "markdown",
      "source": [
        "### **Average Temperature** 🌡️🌡️\n",
        "\n",
        "You have been given a task to develop a program that calculates the average temperature 🌡️ of a city 🏢 for a given week. You have written a program to solve the problem, but there seems to be some logical errors that are causing the program to output incorrect results. You are provided with two sets of weekly temperatures and need to find the average of each individual week.\n",
        "\n",
        "Your task is to identify and rectify the logical errors in the code and write the correct program."
      ],
      "metadata": {
        "id": "yLGJGYS6I3Wh"
      }
    },
    {
      "cell_type": "code",
      "source": [
        "# Temperature data for the week 1 and week 2\n",
        "temperatures_w1 = [32, 34, 31, 30, 29, 28, 33]\n",
        "temperatures_w2 = [31, 34, 35, 28, 29]\n",
        "\n",
        "# Calculate the sum of all temperatures\n",
        "for temperature in temperatures_w1:\n",
        "  sum = sum + temperature\n",
        "\n",
        "# Calculate the average temperature\n",
        "average = sum / 7\n",
        "\n",
        "# Output the result\n",
        "print(\"The average temperature of the week is\", sum, \"degrees Celsius.\")"
      ],
      "metadata": {
        "id": "g0bm4yDDI2yW",
        "outputId": "90af1150-5e01-4e19-893f-00759e14f5d2",
        "colab": {
          "base_uri": "https://localhost:8080/"
        }
      },
      "execution_count": null,
      "outputs": [
        {
          "output_type": "stream",
          "name": "stdout",
          "text": [
            "The average temperature of the week is 217 degrees Celsius.\n"
          ]
        }
      ]
    },
    {
      "cell_type": "code",
      "source": [
        "from IPython.utils.io import temp_pyfile\n",
        "# Write your code here\n",
        "# Temperature data for the week 1 and week 2\n",
        "temperatures_w1 = [32, 34, 31, 30, 29, 28, 33]\n",
        "temperatures_w2 = [31, 34, 35, 28, 29]\n",
        "sum1=0\n",
        "sum2=0\n",
        "\n",
        "# Calculate the sum of all temperatures\n",
        "for temperature in temperatures_w1:\n",
        "  sum1= sum1 + temperature\n",
        "\n",
        "# Calculate the average temperature\n",
        "average_w1 = sum1 / len(temperatures_w1)\n",
        "for temp in temperatures_w2:\n",
        "  sum2=sum2+temp\n",
        "average_w2=sum2/len(temperatures_w2)\n",
        "\n",
        "# Output the result\n",
        "print(\"The average temperature of the week 1 is\", average_w1, \"degrees Celsius.\")\n",
        "print(\"The average temperature of the week 2 is\", average_w2, \"degrees Celsius.\")\n",
        "\n",
        "\n"
      ],
      "metadata": {
        "id": "J5JuV9WqLFX_",
        "outputId": "67175d3a-8530-4308-b643-d4073f31d3f2",
        "colab": {
          "base_uri": "https://localhost:8080/"
        }
      },
      "execution_count": null,
      "outputs": [
        {
          "output_type": "stream",
          "name": "stdout",
          "text": [
            "The average temperature of the week 1 is 31.0 degrees Celsius.\n",
            "The average temperature of the week 2 is 31.4 degrees Celsius.\n"
          ]
        }
      ]
    },
    {
      "cell_type": "markdown",
      "source": [
        "👉 **Instructions:**\n",
        "\n",
        "1. The given temperature list is in celsius and we need to find the average of each individual week.\n",
        "2. While iterating through each temperature we need to initialize a variable to start from zero otherwise it can start from any garbage value.\n",
        "3. Next, find the average by dividing the sum of the temperatures by the length of the temperatures list.\n",
        "4. Print the average temperature of the each week."
      ],
      "metadata": {
        "id": "A101OEJQJ_Tq"
      }
    },
    {
      "cell_type": "markdown",
      "source": [
        "## **Activity 3:**"
      ],
      "metadata": {
        "id": "ipA1U-vjLHxP"
      }
    },
    {
      "cell_type": "markdown",
      "source": [
        "### **Handle that Error!** ❌❌\n",
        "\n",
        "You are developing a Python program that requires user input. You want to make sure that your program doesn't crash due to invalid user input or unexpected errors 🛑. You have heard about exception handling in Python and want to implement it in your program to handle errors gracefully.\n",
        "\n",
        "Your task is to implement exception handling in your program to handle invalid user input and unexpected errors."
      ],
      "metadata": {
        "id": "r04OSlnDLKj3"
      }
    },
    {
      "cell_type": "markdown",
      "source": [
        "![error.png](data:image/png;base64,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)"
      ],
      "metadata": {
        "id": "S5E6H-JGNyBi"
      }
    },
    {
      "cell_type": "code",
      "source": [
        "# Code without exception handling\n",
        "num1 = int(input(\"Enter the first number: \"))\n",
        "num2 = int(input(\"Enter the second number: \"))\n",
        "\n",
        "result = num1 / num2\n",
        "\n",
        "print(\"The result is: \", result)"
      ],
      "metadata": {
        "id": "1UPr7gn2KIm_"
      },
      "execution_count": null,
      "outputs": []
    },
    {
      "cell_type": "code",
      "source": [
        "from logging import exception\n",
        "# Write your code here\n",
        "\n",
        "try:\n",
        "  num1 = int(input(\"Enter the first number: \"))\n",
        "  num2 = int(input(\"Enter the second number: \"))\n",
        "  result = num1 / num2\n",
        "\n",
        "  print(\"The result is: \", result)\n",
        "except ZeroDivisionError:\n",
        "  print(\"You can not devide by zero\")\n",
        "except ValueError:\n",
        "  print(\"Enter number only \")\n",
        "except exception as e:\n",
        "  print(\"An Error occured\", e)"
      ],
      "metadata": {
        "id": "9X3-V505Lqor",
        "outputId": "4e328b69-a3f4-443c-856b-753addf41611",
        "colab": {
          "base_uri": "https://localhost:8080/"
        }
      },
      "execution_count": null,
      "outputs": [
        {
          "output_type": "stream",
          "name": "stdout",
          "text": [
            "Enter the first number: 5\n",
            "Enter the second number: 0\n",
            "You can not devide by zero\n"
          ]
        }
      ]
    },
    {
      "cell_type": "markdown",
      "source": [
        "0👉 **Instructions:**\n",
        "\n",
        "1. Add a try-except block to handle any errors that may occur during runtime.\n",
        "2. In the try block, add the code that may raise an exception.\n",
        "3. In the except block, add the code to handle the exception."
      ],
      "metadata": {
        "id": "Eq2O0ac-Lsxp"
      }
    },
    {
      "cell_type": "markdown",
      "source": [
        "## **Activity 4:**"
      ],
      "metadata": {
        "id": "W5_iayPMMP85"
      }
    },
    {
      "cell_type": "markdown",
      "source": [
        "### **What's the time?** ⌚⌚\n",
        "\n",
        "Create a class Time which takes two inputs: hours and minutes to instantiate.\n",
        "\n",
        "* Construct a method DisplayTime() which displays the time in AM/PM formats.\n",
        "\n",
        " * For example if the input is 14 hours and 45 mins, then this method will print \"The time is 2:45 PM\".\n",
        " * If the inputted hours exceeds 23 then print the message \"The input hours should be less than 24\" and if the inputted minutes exceeds 59 then print the message \"The input minutes should be less than 60.\"\n",
        " * Also if the input is 12 hours 30 minutes, then the displayed time would be 12:30 PM\n",
        "\n",
        "* Construct a method DisplayRatio() which should display the ratio of minutes to hours.\n",
        " * For example, (8 hours and 16 mins) should display 2. Use try, except block to account for ZeroDivisionError."
      ],
      "metadata": {
        "id": "a5yhjDXAMTv6"
      }
    },
    {
      "cell_type": "markdown",
      "source": [
        "![time.png](data:image/png;base64,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)"
      ],
      "metadata": {
        "id": "KOz8JFFPOCrQ"
      }
    },
    {
      "cell_type": "code",
      "source": [
        "from typing_extensions import Self\n",
        "# Write your code here\n",
        "class Time:\n",
        "  def __init__(self,hour,minute):\n",
        "    self.hour=hour\n",
        "    self.minute=minute\n",
        "  def DisplayTime(self):\n",
        "    if self.hour>23:\n",
        "      time=print(\"The input hours should be less than 24\")\n",
        "    elif self.minute>59:\n",
        "      time=print(\"The input minutes should be less than 60\")\n",
        "    elif self.hour>12:\n",
        "      time=print(f\"{self.hour-12}:{self.minute}PM\")\n",
        "    elif self.hour==12:\n",
        "      time=print(f\"{self.hour}:{self.minute}PM\")\n",
        "    else:\n",
        "      time=print(f\"{self.hour}:{self.minute}AM\")\n",
        "  def DisplayRetio(self):\n",
        "    try:\n",
        "      retio=self.minute/self.hour\n",
        "      print(retio)\n",
        "    except ZeroDivisionError:\n",
        "      print(\"Retio Error : it is not devided by zero\")\n",
        "hour,minute=int(input(\"Enter Hour  : \")),int(input(\"Enter Minute : \"))\n",
        "time=Time(hour,minute)\n",
        "DisplayTime=time.DisplayTime()\n",
        "DisplayRetio=time.DisplayRetio()\n",
        "\n"
      ],
      "metadata": {
        "id": "_xHOnmYILyor",
        "outputId": "7ea42a11-bdaf-4dd7-b52d-c7f9f03f2830",
        "colab": {
          "base_uri": "https://localhost:8080/"
        }
      },
      "execution_count": null,
      "outputs": [
        {
          "output_type": "stream",
          "name": "stdout",
          "text": [
            "Enter Hour  : 0\n",
            "Enter Minute : 36\n",
            "0:36AM\n",
            "Retio Error : it is not devided by zero\n"
          ]
        }
      ]
    },
    {
      "cell_type": "markdown",
      "source": [
        "3636\n",
        "**🧪 Test Code:**"
      ],
      "metadata": {
        "id": "MS5Cs0nmM-0z"
      }
    },
    {
      "cell_type": "code",
      "source": [
        "# Check for few sample inputs of hours and\n",
        "class Time:\n",
        "  def __init__(self,hour,minute):\n",
        "    self.hour=hour\n",
        "    self.minute=minute\n",
        "  def DisplayTime(self):\n",
        "    if self.hour>23:\n",
        "      time=print(\"The input hours should be less than 24\")\n",
        "    elif self.minute>59:\n",
        "      time=print(\"The input minutes should be less than 60\")\n",
        "    elif self.hour>12:\n",
        "      time=print(f\"{self.hour-12}:{self.minute}PM\")\n",
        "    elif self.hour==12:\n",
        "      time=print(f\"{self.hour}:{self.minute}PM\")\n",
        "    else:\n",
        "      time=print(f\"{self.hour}:{self.minute}AM\")\n",
        "  def DisplayRetio(self):\n",
        "    try:\n",
        "      retio=self.minute/self.hour\n",
        "      print(retio)\n",
        "    except ZeroDivisionError:\n",
        "      print(\"Retio Error : it is not devided by zero\")\n",
        "hour,minute=int(input(\"Enter Hour  : \")),int(input(\"Enter Minute : \"))\n",
        "time=Time(hour,minute)\n",
        "DisplayTime=time.DisplayTime()\n",
        "DisplayRetio=time.DisplayRetio()"
      ],
      "metadata": {
        "id": "BuTerXSIMsfR",
        "outputId": "635539ac-6336-4a76-f31c-184b3ad31296",
        "colab": {
          "base_uri": "https://localhost:8080/"
        }
      },
      "execution_count": null,
      "outputs": [
        {
          "output_type": "stream",
          "name": "stdout",
          "text": [
            "Enter Hour  : 12\n",
            "Enter Minute : 36\n",
            "12:36PM\n",
            "3.0\n"
          ]
        }
      ]
    },
    {
      "cell_type": "markdown",
      "source": [
        "👉 **Instructions:**\n",
        "\n",
        "1. Create a class Time which takes two inputs: hours and minutes.\n",
        "2. Instantiate the values using a function.\n",
        "3. Then, define two functions for displaying the time in the format explained in the question and for displaying the ratio of hours to minutes.\n",
        "4. Use try-except block for displaying the ratio to account for Zero Division Error."
      ],
      "metadata": {
        "id": "3xJSAlfHNA8z"
      }
    },
    {
      "cell_type": "code",
      "source": [],
      "metadata": {
        "id": "fCakAkO7HkwF"
      },
      "execution_count": null,
      "outputs": []
    }
  ]
}